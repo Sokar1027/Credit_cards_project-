{
 "cells": [
  {
   "cell_type": "markdown",
   "id": "d9479c38-24c1-437a-94fe-044333fe74d9",
   "metadata": {},
   "source": [
    "# NOTEBOOK DATA WRANGLING\n",
    "## In this notebook, you will be able to see the treatment applied to the data scraped in the first notebook.\n",
    "## there are some null values, which weren't available on the 'compara online' website, I decided that the best way to complete this missing information was using chat GPT. This advantage made the process easier and faster. I ask chat GPT for searching that information in the official websites of each bank "
   ]
  },
  {
   "cell_type": "markdown",
   "id": "76c867a7-2802-4ddd-ae34-3e84742f3c7f",
   "metadata": {},
   "source": [
    "## Libraries "
   ]
  },
  {
   "cell_type": "code",
   "execution_count": 122,
   "id": "e30f0d18-b932-4a17-991c-8e72edaaf895",
   "metadata": {},
   "outputs": [],
   "source": [
    "# Importing the main libraries for data wrangling and analysis\n",
    "import pandas as pd # Pandas is used to handle and manipulate tabular data (DataFrames)\n",
    "import numpy as np # NumPy provides mathematical functions and efficient array operations"
   ]
  },
  {
   "cell_type": "code",
   "execution_count": 233,
   "id": "111b6ed5-4c30-4224-9f29-d963da7872a5",
   "metadata": {},
   "outputs": [],
   "source": [
    "# Loading the dataset previously saved from the scraping process\n",
    "# The file 'df_credit_cards.csv' contains all the credit cards information obtained in the first notebook\n",
    "df = pd.read_csv('./df_credit_cards.csv')"
   ]
  },
  {
   "cell_type": "code",
   "execution_count": 235,
   "id": "95794f30-bf42-4755-989e-7175888c4c9b",
   "metadata": {},
   "outputs": [
    {
     "name": "stdout",
     "output_type": "stream",
     "text": [
      "<class 'pandas.core.frame.DataFrame'>\n",
      "RangeIndex: 234 entries, 0 to 233\n",
      "Data columns (total 8 columns):\n",
      " #   Column                       Non-Null Count  Dtype \n",
      "---  ------                       --------------  ----- \n",
      " 0   nombre_tarjeta               234 non-null    object\n",
      " 1   Tasa de interés mensual      234 non-null    object\n",
      " 2   Ingreso mínimo               233 non-null    object\n",
      " 3   Cuota de manejo              234 non-null    object\n",
      " 4   Marca                        234 non-null    object\n",
      " 5   Solicitar                    234 non-null    object\n",
      " 6   Costo de avance en efectivo  181 non-null    object\n",
      " 7   Tipo de tarjeta              141 non-null    object\n",
      "dtypes: object(8)\n",
      "memory usage: 14.8+ KB\n"
     ]
    }
   ],
   "source": [
    "# Display concise summary of the DataFrame\n",
    "# Shows number of rows, columns, column names, non-null counts, and data types\n",
    "df.info()"
   ]
  },
  {
   "cell_type": "code",
   "execution_count": 237,
   "id": "776ac194-e4f6-4348-8357-4c345441ce6a",
   "metadata": {},
   "outputs": [
    {
     "data": {
      "text/plain": [
       "nombre_tarjeta                  0\n",
       "Tasa de interés mensual         0\n",
       "Ingreso mínimo                  1\n",
       "Cuota de manejo                 0\n",
       "Marca                           0\n",
       "Solicitar                       0\n",
       "Costo de avance en efectivo    53\n",
       "Tipo de tarjeta                93\n",
       "dtype: int64"
      ]
     },
     "execution_count": 237,
     "metadata": {},
     "output_type": "execute_result"
    }
   ],
   "source": [
    "# Count the number of missing (null) values per column\n",
    "df.isnull().sum()"
   ]
  },
  {
   "cell_type": "code",
   "execution_count": 239,
   "id": "f61aaedc-bc8b-499d-8d46-130fccc4f600",
   "metadata": {},
   "outputs": [
    {
     "data": {
      "text/html": [
       "<div>\n",
       "<style scoped>\n",
       "    .dataframe tbody tr th:only-of-type {\n",
       "        vertical-align: middle;\n",
       "    }\n",
       "\n",
       "    .dataframe tbody tr th {\n",
       "        vertical-align: top;\n",
       "    }\n",
       "\n",
       "    .dataframe thead th {\n",
       "        text-align: right;\n",
       "    }\n",
       "</style>\n",
       "<table border=\"1\" class=\"dataframe\">\n",
       "  <thead>\n",
       "    <tr style=\"text-align: right;\">\n",
       "      <th></th>\n",
       "      <th>nombre_tarjeta</th>\n",
       "      <th>Tasa de interés mensual</th>\n",
       "      <th>Ingreso mínimo</th>\n",
       "      <th>Cuota de manejo</th>\n",
       "      <th>Marca</th>\n",
       "      <th>Solicitar</th>\n",
       "      <th>Costo de avance en efectivo</th>\n",
       "      <th>Tipo de tarjeta</th>\n",
       "    </tr>\n",
       "  </thead>\n",
       "  <tbody>\n",
       "    <tr>\n",
       "      <th>0</th>\n",
       "      <td>Tarjeta de Crédito Bancolombia Mastercard Joven</td>\n",
       "      <td>2.01%</td>\n",
       "      <td>$200.000</td>\n",
       "      <td>$15.490</td>\n",
       "      <td>Mastercard</td>\n",
       "      <td>Online</td>\n",
       "      <td>$6.900</td>\n",
       "      <td>Internacional</td>\n",
       "    </tr>\n",
       "    <tr>\n",
       "      <th>1</th>\n",
       "      <td>Tarjeta de Crédito Banco de Occidente Masterca...</td>\n",
       "      <td>No informado</td>\n",
       "      <td>$500.000</td>\n",
       "      <td>$ 16.300</td>\n",
       "      <td>Mastercard</td>\n",
       "      <td>Online</td>\n",
       "      <td>$6,800</td>\n",
       "      <td>Internacional</td>\n",
       "    </tr>\n",
       "    <tr>\n",
       "      <th>2</th>\n",
       "      <td>Tarjeta de Crédito Banco de Occidente Visa Joven</td>\n",
       "      <td>No informado</td>\n",
       "      <td>$500.000</td>\n",
       "      <td>$ 16.300</td>\n",
       "      <td>Visa</td>\n",
       "      <td>Online</td>\n",
       "      <td>$6,800</td>\n",
       "      <td>Internacional</td>\n",
       "    </tr>\n",
       "    <tr>\n",
       "      <th>3</th>\n",
       "      <td>Tarjeta de Crédito Davivienda Visa Liviana</td>\n",
       "      <td>2,16%</td>\n",
       "      <td>1 SMLV</td>\n",
       "      <td>$20.000</td>\n",
       "      <td>Visa</td>\n",
       "      <td>Presencial</td>\n",
       "      <td>NaN</td>\n",
       "      <td>Internacional</td>\n",
       "    </tr>\n",
       "    <tr>\n",
       "      <th>4</th>\n",
       "      <td>Tarjeta de Crédito Davivienda Diners Club Liviana</td>\n",
       "      <td>2,16%</td>\n",
       "      <td>1 SMLV</td>\n",
       "      <td>$20.000</td>\n",
       "      <td>Diners Club</td>\n",
       "      <td>Presencial</td>\n",
       "      <td>NaN</td>\n",
       "      <td>Internacional</td>\n",
       "    </tr>\n",
       "  </tbody>\n",
       "</table>\n",
       "</div>"
      ],
      "text/plain": [
       "                                      nombre_tarjeta Tasa de interés mensual  \\\n",
       "0    Tarjeta de Crédito Bancolombia Mastercard Joven                   2.01%   \n",
       "1  Tarjeta de Crédito Banco de Occidente Masterca...            No informado   \n",
       "2   Tarjeta de Crédito Banco de Occidente Visa Joven            No informado   \n",
       "3         Tarjeta de Crédito Davivienda Visa Liviana                   2,16%   \n",
       "4  Tarjeta de Crédito Davivienda Diners Club Liviana                   2,16%   \n",
       "\n",
       "  Ingreso mínimo Cuota de manejo         Marca    Solicitar  \\\n",
       "0       $200.000         $15.490    Mastercard       Online   \n",
       "1       $500.000        $ 16.300    Mastercard       Online   \n",
       "2       $500.000        $ 16.300          Visa       Online   \n",
       "3         1 SMLV         $20.000          Visa   Presencial   \n",
       "4         1 SMLV         $20.000   Diners Club   Presencial   \n",
       "\n",
       "  Costo de avance en efectivo Tipo de tarjeta  \n",
       "0                      $6.900   Internacional  \n",
       "1                      $6,800   Internacional  \n",
       "2                      $6,800   Internacional  \n",
       "3                         NaN   Internacional  \n",
       "4                         NaN   Internacional  "
      ]
     },
     "execution_count": 239,
     "metadata": {},
     "output_type": "execute_result"
    }
   ],
   "source": [
    "# Display the first 5 rows of the dataset\n",
    "df.head()"
   ]
  },
  {
   "cell_type": "markdown",
   "id": "f2c82de8-dd5d-441b-a7c4-682e68c295e9",
   "metadata": {},
   "source": [
    "# Treatment of the 'Tasa de interes mensual' column"
   ]
  },
  {
   "cell_type": "code",
   "execution_count": 242,
   "id": "f0654565-a3c5-4f88-bf02-20796288c996",
   "metadata": {},
   "outputs": [
    {
     "data": {
      "text/plain": [
       "array([' 2.01%', ' No informado', ' 2,16%', ' 2.31%',\n",
       "       ' Disponible en la web de Bancoomeva', ' 2,18%', ' 2,40%',\n",
       "       ' 31,5100% E.A', ' 2.30821%', ' 2,31%', ' 2.52%', ' 2,29% M.V',\n",
       "       ' 2.26%', ' 2.30%', ' 2,20%', ' 2.26% M.V'], dtype=object)"
      ]
     },
     "execution_count": 242,
     "metadata": {},
     "output_type": "execute_result"
    }
   ],
   "source": [
    "# Get all unique values from the column 'Tasa de interés mensual'.\n",
    "# This helps to identify repeated values, format inconsistencies, or missing data.\n",
    "df['Tasa de interés mensual'].unique()"
   ]
  },
  {
   "cell_type": "code",
   "execution_count": 244,
   "id": "591781ba-891b-4464-a6e8-0f7e3152c42f",
   "metadata": {},
   "outputs": [
    {
     "data": {
      "text/plain": [
       "Tasa de interés mensual\n",
       "2.31%                                 64\n",
       "2,40%                                 49\n",
       "2,29% M.V                             19\n",
       "No informado                          13\n",
       "31,5100% E.A                          13\n",
       "2,18%                                 11\n",
       "2.30821%                              11\n",
       "2,31%                                 10\n",
       "2.52%                                  9\n",
       "2,20%                                  8\n",
       "2.30%                                  7\n",
       "2.01%                                  6\n",
       "2.26%                                  5\n",
       "Disponible en la web de Bancoomeva     4\n",
       "2,16%                                  3\n",
       "2.26% M.V                              2\n",
       "Name: count, dtype: int64"
      ]
     },
     "execution_count": 244,
     "metadata": {},
     "output_type": "execute_result"
    }
   ],
   "source": [
    "# Count the frequency of each unique value in the column 'Tasa de interés mensual'.\n",
    "# This is useful to detect common values, outliers, or inconsistencies in the data.\n",
    "df['Tasa de interés mensual'].value_counts()"
   ]
  },
  {
   "cell_type": "code",
   "execution_count": 246,
   "id": "8ade06af-a28b-4eca-82f7-e192bcb3c13b",
   "metadata": {},
   "outputs": [
    {
     "data": {
      "text/html": [
       "<div>\n",
       "<style scoped>\n",
       "    .dataframe tbody tr th:only-of-type {\n",
       "        vertical-align: middle;\n",
       "    }\n",
       "\n",
       "    .dataframe tbody tr th {\n",
       "        vertical-align: top;\n",
       "    }\n",
       "\n",
       "    .dataframe thead th {\n",
       "        text-align: right;\n",
       "    }\n",
       "</style>\n",
       "<table border=\"1\" class=\"dataframe\">\n",
       "  <thead>\n",
       "    <tr style=\"text-align: right;\">\n",
       "      <th></th>\n",
       "      <th>nombre_tarjeta</th>\n",
       "      <th>Tasa de interés mensual</th>\n",
       "      <th>Ingreso mínimo</th>\n",
       "      <th>Cuota de manejo</th>\n",
       "      <th>Marca</th>\n",
       "      <th>Solicitar</th>\n",
       "      <th>Costo de avance en efectivo</th>\n",
       "      <th>Tipo de tarjeta</th>\n",
       "    </tr>\n",
       "  </thead>\n",
       "  <tbody>\n",
       "    <tr>\n",
       "      <th>9</th>\n",
       "      <td>Tarjeta de Crédito Bancoomeva Coomeva Mastercard</td>\n",
       "      <td>Disponible en la web de Bancoomeva</td>\n",
       "      <td>No informado</td>\n",
       "      <td>Cero cuota de manejo por un año ($0)</td>\n",
       "      <td>Mastercard</td>\n",
       "      <td>Online</td>\n",
       "      <td>$6.545</td>\n",
       "      <td>Internacional</td>\n",
       "    </tr>\n",
       "    <tr>\n",
       "      <th>10</th>\n",
       "      <td>Tarjeta de Crédito Bancoomeva Visa Platino</td>\n",
       "      <td>Disponible en la web de Bancoomeva</td>\n",
       "      <td>No informado</td>\n",
       "      <td>Cero cuota de manejo por un año ($0) Exonerac...</td>\n",
       "      <td>Visa</td>\n",
       "      <td>Online</td>\n",
       "      <td>$6.545</td>\n",
       "      <td>Internacional</td>\n",
       "    </tr>\n",
       "    <tr>\n",
       "      <th>11</th>\n",
       "      <td>Tarjeta de Crédito Bancoomeva Visa Oro</td>\n",
       "      <td>Disponible en la web de Bancoomeva</td>\n",
       "      <td>No informado</td>\n",
       "      <td>Cero cuota de manejo por un año ($0) Exonerac...</td>\n",
       "      <td>Visa</td>\n",
       "      <td>Online</td>\n",
       "      <td>$6.545</td>\n",
       "      <td>Internacional</td>\n",
       "    </tr>\n",
       "    <tr>\n",
       "      <th>12</th>\n",
       "      <td>Tarjeta de Crédito Bancoomeva Visa Clásica</td>\n",
       "      <td>Disponible en la web de Bancoomeva</td>\n",
       "      <td>No informado</td>\n",
       "      <td>Cero cuota de manejo por un año ($0) Exonerac...</td>\n",
       "      <td>Visa</td>\n",
       "      <td>Online</td>\n",
       "      <td>$6.545</td>\n",
       "      <td>Internacional</td>\n",
       "    </tr>\n",
       "  </tbody>\n",
       "</table>\n",
       "</div>"
      ],
      "text/plain": [
       "                                      nombre_tarjeta  \\\n",
       "9   Tarjeta de Crédito Bancoomeva Coomeva Mastercard   \n",
       "10        Tarjeta de Crédito Bancoomeva Visa Platino   \n",
       "11            Tarjeta de Crédito Bancoomeva Visa Oro   \n",
       "12        Tarjeta de Crédito Bancoomeva Visa Clásica   \n",
       "\n",
       "                Tasa de interés mensual Ingreso mínimo  \\\n",
       "9    Disponible en la web de Bancoomeva   No informado   \n",
       "10   Disponible en la web de Bancoomeva   No informado   \n",
       "11   Disponible en la web de Bancoomeva   No informado   \n",
       "12   Disponible en la web de Bancoomeva   No informado   \n",
       "\n",
       "                                      Cuota de manejo        Marca Solicitar  \\\n",
       "9                Cero cuota de manejo por un año ($0)   Mastercard    Online   \n",
       "10   Cero cuota de manejo por un año ($0) Exonerac...         Visa    Online   \n",
       "11   Cero cuota de manejo por un año ($0) Exonerac...         Visa    Online   \n",
       "12   Cero cuota de manejo por un año ($0) Exonerac...         Visa    Online   \n",
       "\n",
       "   Costo de avance en efectivo Tipo de tarjeta  \n",
       "9                       $6.545   Internacional  \n",
       "10                      $6.545   Internacional  \n",
       "11                      $6.545   Internacional  \n",
       "12                      $6.545   Internacional  "
      ]
     },
     "execution_count": 246,
     "metadata": {},
     "output_type": "execute_result"
    }
   ],
   "source": [
    "# Select all rows where the column 'Tasa de interés mensual' has the value \n",
    "# 'Disponible en la web de Bancoomeva'. \n",
    "# This helps to inspect specific cases of missing or special values in the dataset\n",
    "df.loc[df['Tasa de interés mensual'] == ' Disponible en la web de Bancoomeva']"
   ]
  },
  {
   "cell_type": "markdown",
   "id": "fe9638c7-a0f0-4ac6-9e3f-eac263c831af",
   "metadata": {},
   "source": [
    "### Replacing missing value of Bancoomeva interest rate with 1.91"
   ]
  },
  {
   "cell_type": "code",
   "execution_count": 248,
   "id": "60f7060f-65c1-4d7e-8944-c290fa472637",
   "metadata": {},
   "outputs": [],
   "source": [
    "# Replace the missing value 'Disponible en la web de Bancoomeva' in the column \n",
    "# 'Tasa de interés mensual' with the numerical value 1.91\n",
    "df['Tasa de interés mensual'] = df['Tasa de interés mensual'].replace(' Disponible en la web de Bancoomeva', 1.91)"
   ]
  },
  {
   "cell_type": "markdown",
   "id": "1a8c8fa5-7a50-491d-a84a-37c9296b2505",
   "metadata": {},
   "source": [
    "### Checking which credit cards still have missing value interest rate "
   ]
  },
  {
   "cell_type": "code",
   "execution_count": 250,
   "id": "19c92e16-a9cf-4e95-afea-b2dd8de11310",
   "metadata": {},
   "outputs": [
    {
     "data": {
      "text/html": [
       "<div>\n",
       "<style scoped>\n",
       "    .dataframe tbody tr th:only-of-type {\n",
       "        vertical-align: middle;\n",
       "    }\n",
       "\n",
       "    .dataframe tbody tr th {\n",
       "        vertical-align: top;\n",
       "    }\n",
       "\n",
       "    .dataframe thead th {\n",
       "        text-align: right;\n",
       "    }\n",
       "</style>\n",
       "<table border=\"1\" class=\"dataframe\">\n",
       "  <thead>\n",
       "    <tr style=\"text-align: right;\">\n",
       "      <th></th>\n",
       "      <th>nombre_tarjeta</th>\n",
       "    </tr>\n",
       "  </thead>\n",
       "  <tbody>\n",
       "    <tr>\n",
       "      <th>1</th>\n",
       "      <td>Tarjeta de Crédito Banco de Occidente Masterca...</td>\n",
       "    </tr>\n",
       "    <tr>\n",
       "      <th>2</th>\n",
       "      <td>Tarjeta de Crédito Banco de Occidente Visa Joven</td>\n",
       "    </tr>\n",
       "    <tr>\n",
       "      <th>74</th>\n",
       "      <td>Tarjeta de Crédito Banco de Occidente Visa Clá...</td>\n",
       "    </tr>\n",
       "    <tr>\n",
       "      <th>93</th>\n",
       "      <td>Tarjeta de Crédito Banco de Occidente LATAM Pa...</td>\n",
       "    </tr>\n",
       "    <tr>\n",
       "      <th>99</th>\n",
       "      <td>Tarjeta de Crédito Banco de Occidente Masterca...</td>\n",
       "    </tr>\n",
       "    <tr>\n",
       "      <th>100</th>\n",
       "      <td>Tarjeta de Crédito Banco de Occidente Visa Gold</td>\n",
       "    </tr>\n",
       "    <tr>\n",
       "      <th>116</th>\n",
       "      <td>Tarjeta de Crédito Banco de Occidente Masterca...</td>\n",
       "    </tr>\n",
       "    <tr>\n",
       "      <th>117</th>\n",
       "      <td>Tarjeta de Crédito Banco de Occidente Visa Pla...</td>\n",
       "    </tr>\n",
       "    <tr>\n",
       "      <th>118</th>\n",
       "      <td>Tarjeta de Crédito Banco de Occidente LATAM Pa...</td>\n",
       "    </tr>\n",
       "    <tr>\n",
       "      <th>136</th>\n",
       "      <td>Tarjeta de Crédito Banco de Occidente Masterca...</td>\n",
       "    </tr>\n",
       "    <tr>\n",
       "      <th>137</th>\n",
       "      <td>Tarjeta de Crédito Banco de Occidente LATAM Pa...</td>\n",
       "    </tr>\n",
       "    <tr>\n",
       "      <th>182</th>\n",
       "      <td>Tarjeta de Crédito Banco de Occidente LATAM Pa...</td>\n",
       "    </tr>\n",
       "    <tr>\n",
       "      <th>183</th>\n",
       "      <td>Tarjeta de Crédito Banco de Occidente Visa Inf...</td>\n",
       "    </tr>\n",
       "  </tbody>\n",
       "</table>\n",
       "</div>"
      ],
      "text/plain": [
       "                                        nombre_tarjeta\n",
       "1    Tarjeta de Crédito Banco de Occidente Masterca...\n",
       "2     Tarjeta de Crédito Banco de Occidente Visa Joven\n",
       "74   Tarjeta de Crédito Banco de Occidente Visa Clá...\n",
       "93   Tarjeta de Crédito Banco de Occidente LATAM Pa...\n",
       "99   Tarjeta de Crédito Banco de Occidente Masterca...\n",
       "100    Tarjeta de Crédito Banco de Occidente Visa Gold\n",
       "116  Tarjeta de Crédito Banco de Occidente Masterca...\n",
       "117  Tarjeta de Crédito Banco de Occidente Visa Pla...\n",
       "118  Tarjeta de Crédito Banco de Occidente LATAM Pa...\n",
       "136  Tarjeta de Crédito Banco de Occidente Masterca...\n",
       "137  Tarjeta de Crédito Banco de Occidente LATAM Pa...\n",
       "182  Tarjeta de Crédito Banco de Occidente LATAM Pa...\n",
       "183  Tarjeta de Crédito Banco de Occidente Visa Inf..."
      ]
     },
     "execution_count": 250,
     "metadata": {},
     "output_type": "execute_result"
    }
   ],
   "source": [
    "# Display the 'nombre_tarjeta' values where the column \n",
    "# 'Tasa de interés mensual' is equal to ' No informado'\n",
    "df[['nombre_tarjeta']].loc[df['Tasa de interés mensual'] == ' No informado']"
   ]
  },
  {
   "cell_type": "markdown",
   "id": "3aea5323-262c-4140-8160-51d08a2d72b3",
   "metadata": {},
   "source": [
    "### Imputing the interest rate found for these credit cards "
   ]
  },
  {
   "cell_type": "code",
   "execution_count": 253,
   "id": "17522336-78a7-482b-aee1-287178531c64",
   "metadata": {},
   "outputs": [],
   "source": [
    "# Replace the values in the column 'Tasa de interés mensual' with 2.24 \n",
    "# for the rows with indices 1, 2, and 74\n",
    "df.loc[[1,2,74], 'Tasa de interés mensual'] = 2.24"
   ]
  },
  {
   "cell_type": "markdown",
   "id": "fa024040-dc76-4101-859a-a58b66ffe89d",
   "metadata": {},
   "source": [
    "### I couldn't find the interest rate for the credit cards left, I'll create a new feature so that the model can identify it and it will be able to recognize this as a premium product or a credit card with personalized interest rate "
   ]
  },
  {
   "cell_type": "code",
   "execution_count": 256,
   "id": "aa089aa7-dc9b-4d32-ab8f-ad5e005d85f5",
   "metadata": {},
   "outputs": [],
   "source": [
    "# Create a new column 'Tasa de interes no informada' that indicates whether \n",
    "# the interest rate in 'Tasa de interés mensual' is missing ('No informado')\n",
    "# This will help the model identify credit cards with missing interest rates\n",
    "df['Tasa de interes no informada'] = df['Tasa de interés mensual'] == ' No informado'"
   ]
  },
  {
   "cell_type": "code",
   "execution_count": 258,
   "id": "d41170d6-d608-4d39-8f2a-9f5d8bb95122",
   "metadata": {},
   "outputs": [
    {
     "name": "stderr",
     "output_type": "stream",
     "text": [
      "C:\\Users\\santi\\AppData\\Local\\Temp\\ipykernel_34312\\3033706044.py:1: FutureWarning: Downcasting behavior in `replace` is deprecated and will be removed in a future version. To retain the old behavior, explicitly call `result.infer_objects(copy=False)`. To opt-in to the future behavior, set `pd.set_option('future.no_silent_downcasting', True)`\n",
      "  df['Tasa de interes no informada'] = df['Tasa de interes no informada'].replace({False:1, True:0 }).astype(int)\n"
     ]
    }
   ],
   "source": [
    "# Convert the boolean column 'Tasa de interes no informada' into integers:\n",
    "# True (interest rate was present) becomes 0\n",
    "# False (interest rate was missing) becomes 1\n",
    "# This makes the feature numeric and suitable for modeling\n",
    "df['Tasa de interes no informada'] = df['Tasa de interes no informada'].replace({False:1, True:0 }).astype(int)"
   ]
  },
  {
   "cell_type": "markdown",
   "id": "5acb0d6f-8ecb-4643-96c1-4b79801bf407",
   "metadata": {},
   "source": [
    "### Checking which interest rate values left to change "
   ]
  },
  {
   "cell_type": "code",
   "execution_count": 260,
   "id": "769c7b4f-10f7-4155-a54c-2c2e7396ee04",
   "metadata": {},
   "outputs": [
    {
     "data": {
      "text/plain": [
       "Tasa de interés mensual\n",
       " 2.31%           64\n",
       " 2,40%           49\n",
       " 2,29% M.V       19\n",
       " 31,5100% E.A    13\n",
       " 2.30821%        11\n",
       " 2,18%           11\n",
       " 2,31%           10\n",
       " No informado    10\n",
       " 2.52%            9\n",
       " 2,20%            8\n",
       " 2.30%            7\n",
       " 2.01%            6\n",
       " 2.26%            5\n",
       "1.91              4\n",
       "2.24              3\n",
       " 2,16%            3\n",
       " 2.26% M.V        2\n",
       "Name: count, dtype: int64"
      ]
     },
     "execution_count": 260,
     "metadata": {},
     "output_type": "execute_result"
    }
   ],
   "source": [
    "# Count the frequency of each unique value in the column 'Tasa de interés mensual'.\n",
    "df['Tasa de interés mensual'].value_counts()"
   ]
  },
  {
   "cell_type": "code",
   "execution_count": 262,
   "id": "9193876c-9a9e-4fe2-8cfc-65041db70e4c",
   "metadata": {},
   "outputs": [],
   "source": [
    "# Replace a specific value '31,5100% E.A' with the numeric value 2.27\n",
    "df.loc[df['Tasa de interés mensual'] == ' 31,5100% E.A', 'Tasa de interés mensual'] = 2.27\n",
    "# Replace the text 'No informado' with NaN to mark missing values properly\n",
    "df['Tasa de interés mensual'] = df['Tasa de interés mensual'].replace(' No informado', np.nan)\n",
    "\n",
    "# Clean and convert the column to numeric:\n",
    "#    - Remove '%' symbols\n",
    "#    - Remove 'M.V' text\n",
    "#    - Replace commas with dots for decimal conversion\n",
    "#    - Strip any extra spaces\n",
    "#    - Convert the column to float type\n",
    "df['Tasa de interés mensual'] = (\n",
    "    df['Tasa de interés mensual'].astype(str).str.replace('%', '', regex=False).str.replace('M.V', '', regex=False).str.replace(',', '.', regex=False).str.strip().astype(float)\n",
    ")\n"
   ]
  },
  {
   "cell_type": "code",
   "execution_count": 264,
   "id": "fcd5d68c-845b-471f-b3c0-39c5b87790a6",
   "metadata": {},
   "outputs": [
    {
     "data": {
      "text/plain": [
       "array([2.01   , 2.24   , 2.16   , 2.31   , 1.91   , 2.18   , 2.4    ,\n",
       "       2.27   , 2.30821, 2.52   , 2.29   , 2.26   , 2.3    , 2.2    ,\n",
       "           nan])"
      ]
     },
     "execution_count": 264,
     "metadata": {},
     "output_type": "execute_result"
    }
   ],
   "source": [
    "# Get all unique values from the column 'Tasa de interés mensual'.\n",
    "df['Tasa de interés mensual'].unique()"
   ]
  },
  {
   "cell_type": "code",
   "execution_count": 266,
   "id": "8efd25d5-58ab-4f44-852d-b4efb0240e50",
   "metadata": {},
   "outputs": [],
   "source": [
    "# Round the values in the column 'Tasa de interés mensual' to 2 decimal places\n",
    "df['Tasa de interés mensual'] = df['Tasa de interés mensual'].round(2)"
   ]
  },
  {
   "cell_type": "code",
   "execution_count": 268,
   "id": "8c2e4b1c-0e5a-4750-9d03-7012fcae0f8c",
   "metadata": {},
   "outputs": [
    {
     "data": {
      "text/plain": [
       "array([2.01, 2.24, 2.16, 2.31, 1.91, 2.18, 2.4 , 2.27, 2.52, 2.29, 2.26,\n",
       "       2.3 , 2.2 ,  nan])"
      ]
     },
     "execution_count": 268,
     "metadata": {},
     "output_type": "execute_result"
    }
   ],
   "source": [
    "# Get all unique values from the column 'Tasa de interés mensual'.\n",
    "df['Tasa de interés mensual'].unique()"
   ]
  },
  {
   "cell_type": "markdown",
   "id": "9a6c7f22-b61d-4dcf-8844-9f12030bcbab",
   "metadata": {
    "jp-MarkdownHeadingCollapsed": true
   },
   "source": [
    "# Treatment of the 'ingreso minimo' column"
   ]
  },
  {
   "cell_type": "code",
   "execution_count": 147,
   "id": "79b69767-095c-466d-bbc0-7ec117e066d1",
   "metadata": {},
   "outputs": [
    {
     "data": {
      "text/plain": [
       "array([' $200.000', ' $500.000', ' 1 SMLV', ' 1 SMMLV', ' No informado',\n",
       "       ' 1 y 1.5 SMMLV', ' 1 y 2 SMMLV', ' $400.000', ' No Informado',\n",
       "       ' $1.000.000', ' 1 SMMLV.000', ' 1.5 SMMLV', ' 1.51 SMMLV',\n",
       "       ' $1.562.484',\n",
       "       ' Visualiza los datos de tu Tarjeta para comprar por internet',\n",
       "       ' $1.800.000', ' $600.000', ' $2.500.000', ' $4.000.000',\n",
       "       ' 6 SMMLV', ' $6.249.936', ' 10 SMMLV', nan, ' $9.374.904',\n",
       "       ' $10.000.000', ' $5 Millones', ' $1.200.000', ' $2.100.000',\n",
       "       ' 30 SMMLV', ' 60 SMMLV', ' $10Millones', ' 1 SMMLV / 5.2 SMMLV',\n",
       "       ' $70 mil y $10 millones', ' 1SMLV', ' 1,5 SMLV / 2 SMLV'],\n",
       "      dtype=object)"
      ]
     },
     "execution_count": 147,
     "metadata": {},
     "output_type": "execute_result"
    }
   ],
   "source": [
    "# Get all unique values from the column 'Ingreso mínimo'.\n",
    "df['Ingreso mínimo'].unique()"
   ]
  },
  {
   "cell_type": "code",
   "execution_count": 271,
   "id": "4029fd0b-dea1-4096-8187-8df0c868ca7b",
   "metadata": {},
   "outputs": [
    {
     "data": {
      "text/plain": [
       "1"
      ]
     },
     "execution_count": 271,
     "metadata": {},
     "output_type": "execute_result"
    }
   ],
   "source": [
    "# Count the number of missing values in the column 'Ingreso mínimo'\n",
    "df['Ingreso mínimo'].isnull().sum()"
   ]
  },
  {
   "cell_type": "code",
   "execution_count": 273,
   "id": "1bcf02d9-1507-4419-8393-c1126bccbbef",
   "metadata": {},
   "outputs": [
    {
     "data": {
      "text/plain": [
       "Ingreso mínimo\n",
       "No informado                                                   105\n",
       "1 SMMLV                                                         23\n",
       "1,5 SMLV / 2 SMLV                                               17\n",
       "1 SMLV                                                          15\n",
       "No Informado                                                    13\n",
       "$1.562.484                                                      10\n",
       "6 SMMLV                                                          5\n",
       "10 SMMLV                                                         4\n",
       "30 SMMLV                                                         3\n",
       "1.5 SMMLV                                                        3\n",
       "$600.000                                                         2\n",
       "$2.100.000                                                       2\n",
       "$6.249.936                                                       2\n",
       "$500.000                                                         2\n",
       "1.51 SMMLV                                                       2\n",
       "$1.200.000                                                       2\n",
       "1 SMMLV.000                                                      2\n",
       "$70 mil y $10 millones                                           2\n",
       "$400.000                                                         2\n",
       "1 y 1.5 SMMLV                                                    2\n",
       "$5 Millones                                                      2\n",
       "$10Millones                                                      1\n",
       "1 SMMLV / 5.2 SMMLV                                              1\n",
       "60 SMMLV                                                         1\n",
       "1SMLV                                                            1\n",
       "$200.000                                                         1\n",
       "$10.000.000                                                      1\n",
       "$9.374.904                                                       1\n",
       "$4.000.000                                                       1\n",
       "$1.800.000                                                       1\n",
       "Visualiza los datos de tu Tarjeta para comprar por internet      1\n",
       "$1.000.000                                                       1\n",
       "1 y 2 SMMLV                                                      1\n",
       "$2.500.000                                                       1\n",
       "Name: count, dtype: int64"
      ]
     },
     "execution_count": 273,
     "metadata": {},
     "output_type": "execute_result"
    }
   ],
   "source": [
    "# Count the frequency of each unique value in the column 'Ingreso mínimo'.\n",
    "df['Ingreso mínimo'].value_counts()"
   ]
  },
  {
   "cell_type": "markdown",
   "id": "87347b0d-46b3-4116-a8d3-3b21e28bac65",
   "metadata": {},
   "source": [
    "## The 'No informado' values are nearly 50% of the data, which is unrealistic, that percentage is unrealistic for premium products. I'll search the missing data manually \n"
   ]
  },
  {
   "cell_type": "code",
   "execution_count": 275,
   "id": "ae0b3bbd-921b-4845-ab63-3530778df2ef",
   "metadata": {
    "collapsed": true,
    "jupyter": {
     "outputs_hidden": true
    }
   },
   "outputs": [
    {
     "data": {
      "text/plain": [
       "array(['Tarjeta de Crédito Bancoomeva Coomeva Mastercard',\n",
       "       'Tarjeta de Crédito Bancoomeva Visa Platino',\n",
       "       'Tarjeta de Crédito Bancoomeva Visa Oro',\n",
       "       'Tarjeta de Crédito Bancoomeva Visa Clásica',\n",
       "       'Tarjeta de Crédito Banco Popular Mastercard Cero',\n",
       "       'Tarjeta de Crédito Davivienda Americanino',\n",
       "       'Tarjeta de Crédito Davivienda NAF NAF',\n",
       "       'Tarjeta de Crédito Davivienda Rifle',\n",
       "       'Tarjeta de Crédito Davivienda Chevignon',\n",
       "       'Tarjeta de Crédito Davivienda Mastercard Alianza Apple',\n",
       "       'Tarjeta de Crédito Davivienda Visa Alianza Apple',\n",
       "       'Tarjeta de Crédito Davivienda Avianca LifeMiles Clásica',\n",
       "       'Tarjeta de Crédito AV Villas Mastercard Facilísima',\n",
       "       'Tarjeta de Crédito AV Villas Portal 80 Gold',\n",
       "       'Tarjeta de Crédito AV Villas Plaza de Las Américas Gold',\n",
       "       'Tarjeta de Crédito AV Villas Plaza de Las Américas Clásica',\n",
       "       'Tarjeta de Crédito AV Villas Auteco Gold',\n",
       "       'Tarjeta de Crédito AV Villas Vivamos el Tiempo Platino',\n",
       "       'Tarjeta de Crédito AV Villas Vivamos el Tiempo Gold',\n",
       "       'Tarjeta de Crédito AV Villas Vivamos el Tiempo Clásica',\n",
       "       'Tarjeta de Crédito AV Villas Mastercard Platinum',\n",
       "       'Tarjeta de Crédito AV Villas Visa Platinum',\n",
       "       'Tarjeta de Crédito AV Villas Mastercard Gold',\n",
       "       'Tarjeta de Crédito AV Villas Visa Gold',\n",
       "       'Tarjeta de Crédito AV Villas Mastercard Clásica',\n",
       "       'Tarjeta de Crédito AV Villas Visa Clásica',\n",
       "       'Tarjeta de Crédito Banco Popular Mastercard Clásica',\n",
       "       'Tarjeta de Crédito Banco Popular Visa Clásica',\n",
       "       'Tarjeta de Crédito Banco Popular Diamante para Pensionados',\n",
       "       'Tarjeta de Crédito Cencosud Básica',\n",
       "       'Tarjeta de Crédito Banco Finandina Visa Motorysa',\n",
       "       'Tarjeta de Crédito Banco Finandina Visa Central Motor',\n",
       "       'Tarjeta de Crédito Banco Finandina Visa Finanzauto',\n",
       "       'Tarjeta de Crédito Banco Finandina Visa Casa Toro',\n",
       "       'Tarjeta de Crédito Banco Finandina Visa Oro',\n",
       "       'Tarjeta de Crédito Banco de Occidente Visa Clásica',\n",
       "       'Tarjeta de Crédito Cencosud Clásica',\n",
       "       'Tarjeta de Crédito Banco Popular Mastercard Oro',\n",
       "       'Tarjeta de Crédito Banco Popular Visa Oro',\n",
       "       'Tarjeta de Crédito Davivienda Avianca LifeMiles Gold',\n",
       "       'Tarjeta de Crédito Banco Popular Mastercard Platinum',\n",
       "       'Tarjeta de Crédito Banco Popular Visa Platinum',\n",
       "       'Tarjeta de Crédito Davivienda Avianca LifeMiles Platinum',\n",
       "       'Tarjeta de Crédito Davivienda Visa Platinum',\n",
       "       'Tarjeta de Crédito Banco Popular Mastercard Black',\n",
       "       'Tarjeta de Crédito Banco Popular Visa Signature',\n",
       "       'Tarjeta de Crédito Davivienda Avianca LifeMiles Signature',\n",
       "       'Tarjeta de Crédito AV Villas Mastercard Black',\n",
       "       'Tarjeta de Crédito Davivienda Tugó',\n",
       "       'Tarjeta de Crédito Davivienda Corferias Cfiel',\n",
       "       'Tarjeta de Crédito Davivienda ComfaSucre Clásica',\n",
       "       'Tarjeta de Crédito Davivienda Esprit',\n",
       "       'Tarjeta de Crédito Banco de Bogotá Corporativa',\n",
       "       'Tarjeta de Crédito Banco de Bogotá Negocios Visa',\n",
       "       'Tarjeta de Crédito Banco de Bogotá Negocios Mastercard',\n",
       "       'Tarjeta de Crédito Banco de Bogotá Crecer Visa',\n",
       "       'Tarjeta de Crédito Banco de Bogotá Crecer Mastecard',\n",
       "       'Tarjeta de Crédito Banco de Bogotá Logros Visa',\n",
       "       'Tarjeta de Crédito Banco de Bogotá Logros Mastercard',\n",
       "       'Tarjeta de Crédito Cencosud Platinum',\n",
       "       'Tarjeta de Crédito Cencosud Gold',\n",
       "       'Tarjeta de Crédito AV Villas Experto',\n",
       "       'Tarjeta de Crédito Davivienda Comfamiliar Risaralda Clásica',\n",
       "       'Tarjeta de Crédito Davivienda Mango',\n",
       "       'Tarjeta de Crédito Davivienda Comfaoriente Clásica',\n",
       "       'Tarjeta de Crédito Davivienda Comfaca Clásica',\n",
       "       'Tarjeta de Crédito Davivienda Comfaboy Clásica',\n",
       "       'Tarjeta de Crédito Davivienda Comfiar Clásica',\n",
       "       'Tarjeta de Crédito Davivienda Comfenalco Tolima Clásica',\n",
       "       'Tarjeta de Crédito Davivienda Cajasai Clásica',\n",
       "       'Tarjeta de Crédito Davivienda Comfenalco Santander Clásica',\n",
       "       'Tarjeta de Crédito Davivienda Cofrem Clásica',\n",
       "       'Tarjeta de Crédito Davivienda Comfaguajira Clásica',\n",
       "       'Tarjeta de Crédito Davivienda COMFAMILIAR Nariño Clásica',\n",
       "       'Tarjeta de Crédito Davivienda COMFAMILIAR Atlántico Oro',\n",
       "       'Tarjeta de Crédito Davivienda COMFAMILIAR Atlántico Clásica',\n",
       "       'Tarjeta de Crédito AV Villas Ventura Plaza Clásica',\n",
       "       'Tarjeta de Crédito AV Villas Ventura Plaza Gold',\n",
       "       'Tarjeta de Crédito Banco de Occidente LATAM Pass Clásica',\n",
       "       'Tarjeta de Crédito Banco de Occidente Visa Infinite',\n",
       "       'Tarjeta de Crédito Banco Finandina Visa Autogermana BMW',\n",
       "       'Tarjeta de Crédito Banco Finandina Visa Autogermana Motorrad',\n",
       "       'Tarjeta de Crédito GNB Sudameris Visa Corporativa',\n",
       "       'Tarjeta de Crédito Itaú Visa Gold LifeMiles',\n",
       "       'Tarjeta de Crédito Itaú Visa Signature LifeMiles',\n",
       "       'Tarjeta de Crédito Itaú Visa Clásica Universitaria',\n",
       "       'Tarjeta de Crédito Banco Popular La 14 Oro',\n",
       "       'Tarjeta de Crédito Banco Popular Visa Hogar',\n",
       "       'Tarjeta de Crédito Banco Popular La 14 Clásica',\n",
       "       'Tarjeta de Crédito Cencosud Infinite',\n",
       "       'Tarjeta de Crédito Davivienda Mastercard Merkepaisa',\n",
       "       'Tarjeta de Crédito Davivienda Mastercard Uniandinos',\n",
       "       'Tarjeta de Crédito Davivienda Mastercard Uniandinos Gold',\n",
       "       'Tarjeta de Crédito Davivienda Visa Alianza DentiSalud',\n",
       "       'Tarjeta de Crédito Davivienda Visa Euro LifeMiles',\n",
       "       'Tarjeta de Crédito Scotiabank Colpatria Mastercard Gold AAdvantage',\n",
       "       'Tarjeta de Crédito Scotiabank Colpatria Mastercard Platinum AAdvantage',\n",
       "       'Tarjeta de Crédito Scotiabank Colpatria One Rewards Infinite',\n",
       "       'Tarjeta de Crédito Scotiabank Colpatria One Rewards Signature',\n",
       "       'Tarjeto de Crédito Claro Scotiabank Colpatria',\n",
       "       'Tarjeta de Crédito Fácil CODENSA Amarilla',\n",
       "       'Tarjeta de Crédito Fácil CODENSA MasterCard',\n",
       "       'Tarjeta de Crédito Fácil CODENSA Verde - Semilla',\n",
       "       'Tarjeta de Crédito Scotiabank Colpatria PriceSmart',\n",
       "       'Tarjeta de Crédito Scotiabank Colpatria Visa Gold AAdvantage'],\n",
       "      dtype=object)"
      ]
     },
     "execution_count": 275,
     "metadata": {},
     "output_type": "execute_result"
    }
   ],
   "source": [
    "# Select the credit cards where the 'Ingreso mínimo' is missing ('No informado')\n",
    "# and get the unique names of these cards.\n",
    "tarjetas_a_buscar_1 = df['nombre_tarjeta'].loc[df['Ingreso mínimo'] == ' No informado']\n",
    "tarjetas_a_buscar_1.unique()"
   ]
  },
  {
   "cell_type": "markdown",
   "id": "5c72a60c-6645-4c1d-b2b3-8a40827e1ae0",
   "metadata": {},
   "source": [
    "## unfortunately, I couldn't find the missing values, so I decided to create a new feature. the data isn't available, possibly because the banks apply a special treatment with the clients from this products \n",
    "### I checked the official websites of each bank to confirm that the information isn't available"
   ]
  },
  {
   "cell_type": "code",
   "execution_count": 278,
   "id": "f91290e6-ce3b-4a0e-91ca-13d9b9b8745e",
   "metadata": {},
   "outputs": [],
   "source": [
    "# Create a new boolean column 'ingreso minimo no informado' that indicates \n",
    "# whether the 'Ingreso mínimo' value is missing ('No informado' or 'No Informado')\n",
    "df['ingreso minimo no informado'] = df['Ingreso mínimo'].isin([' No informado',' No Informado'])"
   ]
  },
  {
   "cell_type": "code",
   "execution_count": 280,
   "id": "0830f33f-2742-48d0-8496-d6711d739b39",
   "metadata": {},
   "outputs": [
    {
     "data": {
      "text/plain": [
       "ingreso minimo no informado\n",
       "True     118\n",
       "False    116\n",
       "Name: count, dtype: int64"
      ]
     },
     "execution_count": 280,
     "metadata": {},
     "output_type": "execute_result"
    }
   ],
   "source": [
    "# Count the frequency of each unique value in the column 'ingreso minimo no informado'.\n",
    "df['ingreso minimo no informado'].value_counts()"
   ]
  },
  {
   "cell_type": "code",
   "execution_count": 282,
   "id": "ff1c0bcb-bc21-462e-acca-b5c97aa19c94",
   "metadata": {
    "scrolled": true
   },
   "outputs": [
    {
     "name": "stderr",
     "output_type": "stream",
     "text": [
      "C:\\Users\\santi\\AppData\\Local\\Temp\\ipykernel_34312\\2334288149.py:1: FutureWarning: Downcasting behavior in `replace` is deprecated and will be removed in a future version. To retain the old behavior, explicitly call `result.infer_objects(copy=False)`. To opt-in to the future behavior, set `pd.set_option('future.no_silent_downcasting', True)`\n",
      "  df['ingreso minimo no informado'] = df['ingreso minimo no informado'].replace({False: 1, True:0}).astype(int)\n"
     ]
    }
   ],
   "source": [
    "# Convert the boolean column 'ingreso minimo no informado' into integers:\n",
    "# False (minimum income is missing) becomes 1\n",
    "# True (minimum income is available) becomes 0\n",
    "# This keeps the negative feature logic consistent and makes the column numeric for modeling\n",
    "df['ingreso minimo no informado'] = df['ingreso minimo no informado'].replace({False: 1, True:0}).astype(int)"
   ]
  },
  {
   "cell_type": "code",
   "execution_count": 284,
   "id": "a608dffe-90e8-4038-9d1b-583c9d8f8eaf",
   "metadata": {},
   "outputs": [
    {
     "data": {
      "text/plain": [
       "87    Tarjeta de Crédito CMR Falabella\n",
       "Name: nombre_tarjeta, dtype: object"
      ]
     },
     "execution_count": 284,
     "metadata": {},
     "output_type": "execute_result"
    }
   ],
   "source": [
    "# Select the credit cards where the 'Ingreso mínimo' column contains the text \n",
    "# 'Visualiza los datos de tu Tarjeta para comprar por internet'. \n",
    "df['nombre_tarjeta'].loc[df['Ingreso mínimo'] == ' Visualiza los datos de tu Tarjeta para comprar por internet']"
   ]
  },
  {
   "cell_type": "code",
   "execution_count": 286,
   "id": "329d05a8-f588-4ab6-b4f8-18c32d7c83ea",
   "metadata": {},
   "outputs": [
    {
     "data": {
      "text/plain": [
       "array([' $200.000', ' $500.000', ' 1 SMLV', ' 1 SMMLV', ' No informado',\n",
       "       ' 1 y 1.5 SMMLV', ' 1 y 2 SMMLV', ' $400.000', ' No Informado',\n",
       "       ' $1.000.000', ' 1 SMMLV.000', ' 1.5 SMMLV', ' 1.51 SMMLV',\n",
       "       ' $1.562.484',\n",
       "       ' Visualiza los datos de tu Tarjeta para comprar por internet',\n",
       "       ' $1.800.000', ' $600.000', ' $2.500.000', ' $4.000.000',\n",
       "       ' 6 SMMLV', ' $6.249.936', ' 10 SMMLV', nan, ' $9.374.904',\n",
       "       ' $10.000.000', ' $5 Millones', ' $1.200.000', ' $2.100.000',\n",
       "       ' 30 SMMLV', ' 60 SMMLV', ' $10Millones', ' 1 SMMLV / 5.2 SMMLV',\n",
       "       ' $70 mil y $10 millones', ' 1SMLV', ' 1,5 SMLV / 2 SMLV'],\n",
       "      dtype=object)"
      ]
     },
     "execution_count": 286,
     "metadata": {},
     "output_type": "execute_result"
    }
   ],
   "source": [
    "# Get all unique values from the column 'Ingreso mínimo'.\n",
    "df['Ingreso mínimo'].unique()"
   ]
  },
  {
   "cell_type": "code",
   "execution_count": 308,
   "id": "c73170a8-df37-43e5-b4dd-a42c8bd55f43",
   "metadata": {},
   "outputs": [
    {
     "name": "stderr",
     "output_type": "stream",
     "text": [
      "<>:3: SyntaxWarning: invalid escape sequence '\\$'\n",
      "<>:3: SyntaxWarning: invalid escape sequence '\\$'\n",
      "C:\\Users\\santi\\AppData\\Local\\Temp\\ipykernel_34312\\3388693897.py:3: SyntaxWarning: invalid escape sequence '\\$'\n",
      "  df['Ingreso mínimo'] = df['Ingreso mínimo'].astype(str).str.replace('[\\$.]', '', regex=True).str.strip()\n"
     ]
    }
   ],
   "source": [
    "# Remove leading and trailing spaces from all values\n",
    "df['Ingreso mínimo'] = df['Ingreso mínimo'].str.strip()\n",
    "# Replace 'No informado' or 'No Informado' with NaN to mark missing values\n",
    "df['Ingreso mínimo'] = df['Ingreso mínimo'].replace(['No informado', 'No Informado'], np.nan)\n",
    "# Remove dollar signs ($) and dots (.) used as thousand separators,\n",
    "# then strip any remaining spaces and keep the values as strings\n",
    "df['Ingreso mínimo'] = df['Ingreso mínimo'].astype(str).str.replace('[\\$.]', '', regex=True).str.strip()\n",
    "#df['Ingreso mínimo'] = df['Ingreso mínimo']\n"
   ]
  },
  {
   "cell_type": "code",
   "execution_count": 310,
   "id": "e72e4c23-26f8-4b19-8f75-5d7b6100b50f",
   "metadata": {},
   "outputs": [
    {
     "data": {
      "text/plain": [
       "array(['200000', '500000', '1 SMLV', '1 SMMLV', 'nan', '1 y 15 SMMLV',\n",
       "       '1 y 2 SMMLV', '400000', '1000000', '1 SMMLV000', '15 SMMLV',\n",
       "       '151 SMMLV', '1562484',\n",
       "       'Visualiza los datos de tu Tarjeta para comprar por internet',\n",
       "       '1800000', '600000', '2500000', '4000000', '6 SMMLV', '6249936',\n",
       "       '10 SMMLV', '9374904', '10000000', '5 Millones', '1200000',\n",
       "       '2100000', '30 SMMLV', '60 SMMLV', '10Millones',\n",
       "       '1 SMMLV / 52 SMMLV', '70 mil y 10 millones', '1SMLV',\n",
       "       '1,5 SMLV / 2 SMLV'], dtype=object)"
      ]
     },
     "execution_count": 310,
     "metadata": {},
     "output_type": "execute_result"
    }
   ],
   "source": [
    "# Get all unique values from the column 'Ingreso mínimo'.\n",
    "df['Ingreso mínimo'].unique()"
   ]
  },
  {
   "cell_type": "code",
   "execution_count": 338,
   "id": "eb880102-1c9f-4659-8588-ff7c954867e0",
   "metadata": {},
   "outputs": [],
   "source": [
    "# Replace specific text values in the 'Ingreso mínimo' column with their corresponding numeric amounts.\n",
    "# This standardizes the minimum income values to be numeric and consistent for analysis or modeling.\n",
    "df['Ingreso mínimo'] = df['Ingreso mínimo'].replace({'1 SMLV': 1423500, '1 SMMLV': 1423500,\n",
    "                                                                      '1 y 15 SMMLV': 1423500, '1 y 2 SMMLV': 1423500, '1 SMMLV000': 1423500,\n",
    "                                                                      '15 SMMLV': 2135250, '151 SMMLV': 2135250, 'Visualiza los datos de tu Tarjeta para comprar por internet': 1423500,\n",
    "                                                                      '6 SMMLV': 8541000, '10 SMMLV': 14235000, '5 Millones': 5000000,\n",
    "                                                                      '30 SMMLV': 42705000, '60 SMMLV': 85410000, '10Millones': 10000000,\n",
    "                                                                      '1 SMMLV / 52 SMMLV': 1423500, '70 mil y 10 millones': 70000, '1SMLV': 1423500,\n",
    "                                                                      '1,5 SMLV / 2 SMLV': 2135250}, regex=False)\n",
    "# Convert the 'Ingreso mínimo' column to numeric values:\n",
    "# - pd.to_numeric(..., errors='coerce') converts valid numeric strings to numbers and replaces invalid entries with NaN\n",
    "df['Ingreso mínimo'] = pd.to_numeric(df['Ingreso mínimo'], errors='coerce')\n",
    "# - .astype('Int64') ensures the column is of integer type while still allowing NaN values\n",
    "df['Ingreso mínimo'] = df['Ingreso mínimo'].astype('Int64')"
   ]
  },
  {
   "cell_type": "code",
   "execution_count": 340,
   "id": "6ce64c07-dd1f-4762-8bad-7baa654a1f47",
   "metadata": {},
   "outputs": [
    {
     "data": {
      "text/plain": [
       "<IntegerArray>\n",
       "[  200000,   500000,  1423500,     <NA>,   400000,  1000000,  2135250,\n",
       "  1562484,  1800000,   600000,  2500000,  4000000,  8541000,  6249936,\n",
       " 14235000,  9374904, 10000000,  5000000,  1200000,  2100000, 42705000,\n",
       " 85410000,    70000]\n",
       "Length: 23, dtype: Int64"
      ]
     },
     "execution_count": 340,
     "metadata": {},
     "output_type": "execute_result"
    }
   ],
   "source": [
    "# Get all unique values from the column 'Ingreso mínimo'.\n",
    "df['Ingreso mínimo'].unique()"
   ]
  },
  {
   "cell_type": "code",
   "execution_count": 342,
   "id": "c405c325-c1f1-43d0-8332-08f1e42a7f30",
   "metadata": {},
   "outputs": [
    {
     "data": {
      "text/plain": [
       "Ingreso mínimo\n",
       "1423500     46\n",
       "2135250     22\n",
       "1562484     10\n",
       "8541000      5\n",
       "14235000     4\n",
       "42705000     3\n",
       "6249936      2\n",
       "2100000      2\n",
       "1200000      2\n",
       "5000000      2\n",
       "10000000     2\n",
       "70000        2\n",
       "500000       2\n",
       "600000       2\n",
       "400000       2\n",
       "4000000      1\n",
       "9374904      1\n",
       "2500000      1\n",
       "1800000      1\n",
       "1000000      1\n",
       "85410000     1\n",
       "200000       1\n",
       "Name: count, dtype: Int64"
      ]
     },
     "execution_count": 342,
     "metadata": {},
     "output_type": "execute_result"
    }
   ],
   "source": [
    "# Count the frequency of each unique value in the column 'Ingreso mínimo'.\n",
    "df['Ingreso mínimo'].value_counts()"
   ]
  },
  {
   "cell_type": "markdown",
   "id": "82003e7a-a5e4-4727-8442-7be48e93df94",
   "metadata": {},
   "source": [
    "# Treatment of the 'Cuota de manejo' column "
   ]
  },
  {
   "cell_type": "code",
   "execution_count": 345,
   "id": "c2336094-572c-4131-a877-e0685fdda34f",
   "metadata": {},
   "outputs": [
    {
     "data": {
      "text/html": [
       "<div>\n",
       "<style scoped>\n",
       "    .dataframe tbody tr th:only-of-type {\n",
       "        vertical-align: middle;\n",
       "    }\n",
       "\n",
       "    .dataframe tbody tr th {\n",
       "        vertical-align: top;\n",
       "    }\n",
       "\n",
       "    .dataframe thead th {\n",
       "        text-align: right;\n",
       "    }\n",
       "</style>\n",
       "<table border=\"1\" class=\"dataframe\">\n",
       "  <thead>\n",
       "    <tr style=\"text-align: right;\">\n",
       "      <th></th>\n",
       "      <th>nombre_tarjeta</th>\n",
       "      <th>Tasa de interés mensual</th>\n",
       "      <th>Ingreso mínimo</th>\n",
       "      <th>Cuota de manejo</th>\n",
       "      <th>Marca</th>\n",
       "      <th>Solicitar</th>\n",
       "      <th>Costo de avance en efectivo</th>\n",
       "      <th>Tipo de tarjeta</th>\n",
       "      <th>Tasa de interes no informada</th>\n",
       "      <th>ingreso minimo no informado</th>\n",
       "    </tr>\n",
       "  </thead>\n",
       "  <tbody>\n",
       "    <tr>\n",
       "      <th>0</th>\n",
       "      <td>Tarjeta de Crédito Bancolombia Mastercard Joven</td>\n",
       "      <td>2.01</td>\n",
       "      <td>200000</td>\n",
       "      <td>$15.490</td>\n",
       "      <td>Mastercard</td>\n",
       "      <td>Online</td>\n",
       "      <td>$6.900</td>\n",
       "      <td>Internacional</td>\n",
       "      <td>1</td>\n",
       "      <td>1</td>\n",
       "    </tr>\n",
       "    <tr>\n",
       "      <th>1</th>\n",
       "      <td>Tarjeta de Crédito Banco de Occidente Masterca...</td>\n",
       "      <td>2.24</td>\n",
       "      <td>500000</td>\n",
       "      <td>$ 16.300</td>\n",
       "      <td>Mastercard</td>\n",
       "      <td>Online</td>\n",
       "      <td>$6,800</td>\n",
       "      <td>Internacional</td>\n",
       "      <td>1</td>\n",
       "      <td>1</td>\n",
       "    </tr>\n",
       "    <tr>\n",
       "      <th>2</th>\n",
       "      <td>Tarjeta de Crédito Banco de Occidente Visa Joven</td>\n",
       "      <td>2.24</td>\n",
       "      <td>500000</td>\n",
       "      <td>$ 16.300</td>\n",
       "      <td>Visa</td>\n",
       "      <td>Online</td>\n",
       "      <td>$6,800</td>\n",
       "      <td>Internacional</td>\n",
       "      <td>1</td>\n",
       "      <td>1</td>\n",
       "    </tr>\n",
       "    <tr>\n",
       "      <th>3</th>\n",
       "      <td>Tarjeta de Crédito Davivienda Visa Liviana</td>\n",
       "      <td>2.16</td>\n",
       "      <td>1423500</td>\n",
       "      <td>$20.000</td>\n",
       "      <td>Visa</td>\n",
       "      <td>Presencial</td>\n",
       "      <td>NaN</td>\n",
       "      <td>Internacional</td>\n",
       "      <td>1</td>\n",
       "      <td>1</td>\n",
       "    </tr>\n",
       "    <tr>\n",
       "      <th>4</th>\n",
       "      <td>Tarjeta de Crédito Davivienda Diners Club Liviana</td>\n",
       "      <td>2.16</td>\n",
       "      <td>1423500</td>\n",
       "      <td>$20.000</td>\n",
       "      <td>Diners Club</td>\n",
       "      <td>Presencial</td>\n",
       "      <td>NaN</td>\n",
       "      <td>Internacional</td>\n",
       "      <td>1</td>\n",
       "      <td>1</td>\n",
       "    </tr>\n",
       "  </tbody>\n",
       "</table>\n",
       "</div>"
      ],
      "text/plain": [
       "                                      nombre_tarjeta  Tasa de interés mensual  \\\n",
       "0    Tarjeta de Crédito Bancolombia Mastercard Joven                     2.01   \n",
       "1  Tarjeta de Crédito Banco de Occidente Masterca...                     2.24   \n",
       "2   Tarjeta de Crédito Banco de Occidente Visa Joven                     2.24   \n",
       "3         Tarjeta de Crédito Davivienda Visa Liviana                     2.16   \n",
       "4  Tarjeta de Crédito Davivienda Diners Club Liviana                     2.16   \n",
       "\n",
       "   Ingreso mínimo Cuota de manejo         Marca    Solicitar  \\\n",
       "0          200000         $15.490    Mastercard       Online   \n",
       "1          500000        $ 16.300    Mastercard       Online   \n",
       "2          500000        $ 16.300          Visa       Online   \n",
       "3         1423500         $20.000          Visa   Presencial   \n",
       "4         1423500         $20.000   Diners Club   Presencial   \n",
       "\n",
       "  Costo de avance en efectivo Tipo de tarjeta  Tasa de interes no informada  \\\n",
       "0                      $6.900   Internacional                             1   \n",
       "1                      $6,800   Internacional                             1   \n",
       "2                      $6,800   Internacional                             1   \n",
       "3                         NaN   Internacional                             1   \n",
       "4                         NaN   Internacional                             1   \n",
       "\n",
       "   ingreso minimo no informado  \n",
       "0                            1  \n",
       "1                            1  \n",
       "2                            1  \n",
       "3                            1  \n",
       "4                            1  "
      ]
     },
     "execution_count": 345,
     "metadata": {},
     "output_type": "execute_result"
    }
   ],
   "source": [
    "# Display the first few rows of the dataframe to inspect the cleaned and transformed data\n",
    "df.head()"
   ]
  },
  {
   "cell_type": "code",
   "execution_count": 347,
   "id": "61996d9c-f4ee-4f69-9d27-aa4c2582a378",
   "metadata": {},
   "outputs": [
    {
     "data": {
      "text/plain": [
       "array([' $15.490', ' $ 16.300', ' $20.000', ' $30.790', ' $26.010',\n",
       "       ' $24.710', ' Cero cuota de manejo por un año ($0)',\n",
       "       ' Cero cuota de manejo por un año ($0) Exoneración Cuota de Manejo para tus tarjetas Bancoomeva',\n",
       "       ' $109.680', ' $28.000', ' $ 0', ' $16.690', ' 6 meses a $0*',\n",
       "       ' $34.962 M.V', ' $38.900', ' $34.900', ' $29.600', ' $17.900',\n",
       "       ' $48.900', ' 50% de exoneracion*', ' $26.490', ' $26,990 M.V',\n",
       "       ' $28,990 M.V', ' $29.380', ' $29.900', ' No informado',\n",
       "       ' $27,990 M.V', ' $28,500 M.V', ' $37,990 M.V', ' $31,990 M.V',\n",
       "       ' $27.400', ' $32,990', ' $ 25.900 MV', ' $26.533', ' $39,000 T.V',\n",
       "       ' $ 26.533', ' $33.390*', ' $26.990', ' $31.600', ' $31,200 T.V',\n",
       "       ' $31.100', ' $101.850', ' $31.000', ' $32.000', ' $37.000',\n",
       "       ' $35.520', ' $34.700', ' $36.300', ' $44,800 T.V', ' $34.623',\n",
       "       ' $40.260', ' $35.500', ' $39.080', ' Sin costo', ' No aplica',\n",
       "       ' $45.000', ' $46.000', ' $43.900', ' $44.400', ' $39.401 M.V',\n",
       "       ' $35,000 M.V', ' $49.391 M.V', ' $47.980', ' $48.410', ' $51.890',\n",
       "       ' $84.600', ' $35.400', ' $32.680', ' $27.740', ' $23.150',\n",
       "       ' $41,990', ' $22.633', ' $23,990 M.V', ' $21.000', ' $16.800',\n",
       "       ' $22.150', ' $40.990', ' $26.900', ' $47.487', ' $29.967 M.V',\n",
       "       ' $34.407 M.V', ' $52.831 M.V', ' $39.956 M.V', ' $11.099 M.V',\n",
       "       ' $28.600', ' $23.400', ' $0 mensuales', ' $53,990', ' $37,990',\n",
       "       ' $31,990', ' $0', ' $47,990', ' $36,990', ' $49,990', ' $40,990',\n",
       "       ' $25,700', ' $26,700', ' $27,700', ' $27,660'], dtype=object)"
      ]
     },
     "execution_count": 347,
     "metadata": {},
     "output_type": "execute_result"
    }
   ],
   "source": [
    "# Get all unique values from the column 'Cuota de manejo'.\n",
    "df['Cuota de manejo'].unique()."
   ]
  },
  {
   "cell_type": "code",
   "execution_count": 353,
   "id": "14f4f02c-dbc4-47da-9386-0edab6495fe7",
   "metadata": {},
   "outputs": [
    {
     "name": "stderr",
     "output_type": "stream",
     "text": [
      "<>:1: SyntaxWarning: invalid escape sequence '\\$'\n",
      "<>:1: SyntaxWarning: invalid escape sequence '\\$'\n",
      "C:\\Users\\santi\\AppData\\Local\\Temp\\ipykernel_34312\\4101284072.py:1: SyntaxWarning: invalid escape sequence '\\$'\n",
      "  df['Cuota de manejo'] = df['Cuota de manejo'].astype(str).str.replace('[\\$.,]', '', regex=True).str.strip()\n"
     ]
    }
   ],
   "source": [
    "# Clean the 'Cuota de manejo' column by:\n",
    "# - Converting all values to strings\n",
    "# - Removing dollar signs ($), dots, and commas\n",
    "# - Stripping any leading or trailing spaces\n",
    "# This prepares the column for numeric conversion and analysis\n",
    "df['Cuota de manejo'] = df['Cuota de manejo'].astype(str).str.replace('[\\$.,]', '', regex=True).str.strip()"
   ]
  },
  {
   "cell_type": "code",
   "execution_count": 425,
   "id": "6566c142-9602-4dde-bd62-149103648bd9",
   "metadata": {},
   "outputs": [],
   "source": [
    "# Get all unique values from the 'Cuota de manejo' column\n",
    "unique = df['Cuota de manejo'].unique()"
   ]
  },
  {
   "cell_type": "code",
   "execution_count": 427,
   "id": "96acc30c-fddc-4efd-9d89-59360528123c",
   "metadata": {},
   "outputs": [],
   "source": [
    "# Count the number of unique values in the 'Cuota de manejo' column manually\n",
    "count_unique = 0\n",
    "for i in unique:\n",
    "    count_unique += 1"
   ]
  },
  {
   "cell_type": "code",
   "execution_count": 429,
   "id": "3c9128d7-64c4-400f-b1f4-1f42234edb11",
   "metadata": {},
   "outputs": [
    {
     "data": {
      "text/plain": [
       "104"
      ]
     },
     "execution_count": 429,
     "metadata": {},
     "output_type": "execute_result"
    }
   ],
   "source": [
    "# Display the total number of unique values counted in the 'Cuota de manejo' column\n",
    "count_unique"
   ]
  },
  {
   "cell_type": "code",
   "execution_count": 431,
   "id": "b9147c74-3ae6-4790-934c-ac9aed079181",
   "metadata": {},
   "outputs": [
    {
     "data": {
      "text/plain": [
       "array(['15490', '16300', '20000', '30790', '26010', '24710', 34000, 42000,\n",
       "       38000, 32000, '109680', '28000', '0', '16690', 29400, '34962 MV',\n",
       "       '38900', '34900', '29600', '17900', '48900', '50% de exoneracion*',\n",
       "       38400, '26490', '26990 MV', '28990 MV', '29380', '29900',\n",
       "       'No informado', '27990 MV', '28500 MV', '37990 MV', '31990 MV',\n",
       "       '27400', '32990', '25900 MV', '26533', '39000 TV', 27590, 24590,\n",
       "       '33390*', 40990, '26990', 26777, '31600', '31200 TV', '31100',\n",
       "       '101850', '31000', '32000', '37000', '35520', '34700', '36300',\n",
       "       '44800 TV', '34623', '40260', '35500', '39080', 'Sin costo',\n",
       "       'No aplica', '45000', '46000', 48490, '43900', '44400', '39401 MV',\n",
       "       '35000 MV', '49391 MV', '47980', '48410', '51890', '84600',\n",
       "       '35400', '32680', '27740', '23150', '41990', '22633', '23990 MV',\n",
       "       '21000', '16800', '22150', '40990', '26900', '47487', '29967 MV',\n",
       "       '34407 MV', '52831 MV', '39956 MV', '11099 MV', '28600', '23400',\n",
       "       '0 mensuales', '53990', '37990', '31990', '47990', '36990',\n",
       "       '49990', '25700', '26700', '27700', '27660'], dtype=object)"
      ]
     },
     "execution_count": 431,
     "metadata": {},
     "output_type": "execute_result"
    }
   ],
   "source": [
    "# Display the array of unique values from the 'Cuota de manejo' column\n",
    "unique"
   ]
  },
  {
   "cell_type": "markdown",
   "id": "eb3471ec-c2e4-4976-9e42-8767f1e402d3",
   "metadata": {},
   "source": [
    "## Treatment of credit cards with a maintenance fee of $0 for six months\n",
    "### Some of this data was collected manually or with the help of chat GPT"
   ]
  },
  {
   "cell_type": "code",
   "execution_count": 392,
   "id": "013edfd1-bca7-4e07-859b-35c790ba37e5",
   "metadata": {},
   "outputs": [
    {
     "data": {
      "text/plain": [
       "array(['Tarjeta de Crédito Bancolombia American Express Gold',\n",
       "       'Tarjeta de Crédito Bancolombia Mastercard Oro',\n",
       "       'Tarjeta de Crédito Bancolombia Mastercard Clásica',\n",
       "       'Tarjeta de Crédito Bancolombia American Express Blue',\n",
       "       'Tarjeta de Crédito Bancolombia Visa Platinum',\n",
       "       'Tarjeta de Crédito Bancolombia Visa Oro',\n",
       "       'Tarjeta de Crédito Bancolombia Avianca LifeMiles',\n",
       "       'Tarjeta de Crédito Banco de Occidente Mastercard Clásica',\n",
       "       'Tarjeta de Crédito Bancolombia Mastercard Black',\n",
       "       'Tarjeta de Crédito Bancolombia American Express Platinum',\n",
       "       'Tarjeta de Crédito Bancolombia Visa Infinite'], dtype=object)"
      ]
     },
     "execution_count": 392,
     "metadata": {},
     "output_type": "execute_result"
    }
   ],
   "source": [
    "# Select the credit cards where the 'Cuota de manejo' (management fee) is '6 meses a 0*'\n",
    "# and get the unique names of these cards\n",
    "a_6_meses = df['nombre_tarjeta'].loc[df['Cuota de manejo'] == '6 meses a 0*']\n",
    "a_6_meses.unique()"
   ]
  },
  {
   "cell_type": "code",
   "execution_count": 394,
   "id": "88295078-46bc-4e6a-86bd-4fc5736d246c",
   "metadata": {},
   "outputs": [],
   "source": [
    "# Update the 'Cuota de manejo' (maintenance fee) for a specific credit card \n",
    "# Use .loc to locate rows matching a condition and update a column with a specific value\n",
    "df.loc[df['nombre_tarjeta'] == 'Tarjeta de Crédito Bancolombia Visa Clásica', 'Cuota de manejo'] = 29400\n",
    "df.loc[df['nombre_tarjeta'] == 'Tarjeta de Crédito Bancolombia American Express Gold', 'Cuota de manejo'] = 38400\n",
    "df.loc[df['nombre_tarjeta'] == 'Tarjeta de Crédito Bancolombia Mastercard Oro', 'Cuota de manejo'] = 27590\n",
    "df.loc[df['nombre_tarjeta'] == 'Tarjeta de Crédito Bancolombia Mastercard Clásica', 'Cuota de manejo'] = 24590\n",
    "df.loc[df['nombre_tarjeta'] == 'Tarjeta de Crédito Bancolombia American Express Blue', 'Cuota de manejo'] = 29400\n",
    "df.loc[df['nombre_tarjeta'] == 'Tarjeta de Crédito Bancolombia Visa Platinum', 'Cuota de manejo'] = 38400\n",
    "df.loc[df['nombre_tarjeta'] == 'Tarjeta de Crédito Bancolombia Visa Oro', 'Cuota de manejo'] = 27590\n",
    "df.loc[df['nombre_tarjeta'] == 'Tarjeta de Crédito Bancolombia Avianca LifeMiles', 'Cuota de manejo'] = 40990\n",
    "df.loc[df['nombre_tarjeta'] == 'Tarjeta de Crédito Banco de Occidente Mastercard Clásica', 'Cuota de manejo'] = 26777\n",
    "df.loc[df['nombre_tarjeta'] == 'Tarjeta de Crédito Bancolombia Mastercard Black', 'Cuota de manejo'] = 48490\n",
    "df.loc[df['nombre_tarjeta'] == 'Tarjeta de Crédito Bancolombia American Express Platinum', 'Cuota de manejo'] = 48490\n",
    "df.loc[df['nombre_tarjeta'] == 'Tarjeta de Crédito Bancolombia Visa Infinite', 'Cuota de manejo'] = 48490"
   ]
  },
  {
   "cell_type": "code",
   "execution_count": 25,
   "id": "21e2d051-075f-4006-bf00-194699339c1a",
   "metadata": {
    "collapsed": true,
    "jupyter": {
     "outputs_hidden": true
    }
   },
   "outputs": [
    {
     "ename": "NameError",
     "evalue": "name 'df' is not defined",
     "output_type": "error",
     "traceback": [
      "\u001b[1;31m---------------------------------------------------------------------------\u001b[0m",
      "\u001b[1;31mNameError\u001b[0m                                 Traceback (most recent call last)",
      "Cell \u001b[1;32mIn[25], line 2\u001b[0m\n\u001b[0;32m      1\u001b[0m \u001b[38;5;66;03m# Get all unique values from the 'Cuota de manejo' column\u001b[39;00m\n\u001b[1;32m----> 2\u001b[0m df[\u001b[38;5;124m'\u001b[39m\u001b[38;5;124mCuota de manejo\u001b[39m\u001b[38;5;124m'\u001b[39m]\u001b[38;5;241m.\u001b[39munique()\n",
      "\u001b[1;31mNameError\u001b[0m: name 'df' is not defined"
     ]
    }
   ],
   "source": [
    "# Get all unique values from the column 'Cuota de manejo'.\n",
    "df['Cuota de manejo'].unique()"
   ]
  },
  {
   "cell_type": "markdown",
   "id": "4d6328e3-1f2a-405f-8255-87af78e4b3b1",
   "metadata": {},
   "source": [
    "## Treatment of credit cards with a maintenance fee of $0 for a year"
   ]
  },
  {
   "cell_type": "code",
   "execution_count": 407,
   "id": "29908ee7-8645-4d72-b7d8-d4617c84d71a",
   "metadata": {},
   "outputs": [],
   "source": [
    "# Select credit cards where the 'Cuota de manejo' indicates zero fee for one year\n",
    "# Combine multiple filtered series into a single object using pd.concat\n",
    "un_año = df['nombre_tarjeta'].loc[df['Cuota de manejo'] == 'Cero cuota de manejo por un año (0)']\n",
    "un_año_1 = df['nombre_tarjeta'].loc[df['Cuota de manejo'] == 'Cero cuota de manejo por un año (0) Exoneración Cuota de Manejo para tus tarjetas Bancoomeva']\n",
    "un_año_2 = pd.concat([un_año, un_año_1])"
   ]
  },
  {
   "cell_type": "code",
   "execution_count": 409,
   "id": "ee10cfd0-4043-4bcf-bb8f-a1e6e5282b22",
   "metadata": {},
   "outputs": [
    {
     "data": {
      "text/plain": [
       "9     Tarjeta de Crédito Bancoomeva Coomeva Mastercard\n",
       "10          Tarjeta de Crédito Bancoomeva Visa Platino\n",
       "11              Tarjeta de Crédito Bancoomeva Visa Oro\n",
       "12          Tarjeta de Crédito Bancoomeva Visa Clásica\n",
       "Name: nombre_tarjeta, dtype: object"
      ]
     },
     "execution_count": 409,
     "metadata": {},
     "output_type": "execute_result"
    }
   ],
   "source": [
    "# Display the combined list of credit cards with a zero maintenance fee for one year\n",
    "un_año_2"
   ]
  },
  {
   "cell_type": "code",
   "execution_count": 415,
   "id": "1324d403-7947-4025-8444-da4c8bd7dbcd",
   "metadata": {},
   "outputs": [],
   "source": [
    "# Dictionary mapping credit card names to their corresponding maintenance fees\n",
    "# This will be used to update the 'Cuota de manejo' column in the dataframe\n",
    "coutas_año = {'Tarjeta de Crédito Bancoomeva Coomeva Mastercard': 34000,\n",
    "             'Tarjeta de Crédito Bancoomeva Visa Platino': 42000,\n",
    "             'Tarjeta de Crédito Bancoomeva Visa Oro': 38000,\n",
    "             'Tarjeta de Crédito Bancoomeva Visa Clásica' : 32000}\n",
    "# Update the 'Cuota de manejo' (maintenance fee) for multiple credit cards at once\n",
    "# by iterating over a dictionary of card names and their corresponding fees\n",
    "for name, valor in coutas_año.items():\n",
    "    df.loc[df['nombre_tarjeta'] == name, 'Cuota de manejo'] = valor"
   ]
  },
  {
   "cell_type": "code",
   "execution_count": 417,
   "id": "165c08a6-f6c6-4c18-af4f-b55be78a532e",
   "metadata": {},
   "outputs": [
    {
     "data": {
      "text/plain": [
       "array(['15490', '16300', '20000', '30790', '26010', '24710', 34000, 42000,\n",
       "       38000, 32000, '109680', '28000', '0', '16690', 29400, '34962 MV',\n",
       "       '38900', '34900', '29600', '17900', '48900', '50% de exoneracion*',\n",
       "       38400, '26490', '26990 MV', '28990 MV', '29380', '29900',\n",
       "       'No informado', '27990 MV', '28500 MV', '37990 MV', '31990 MV',\n",
       "       '27400', '32990', '25900 MV', '26533', '39000 TV', 27590, 24590,\n",
       "       '33390*', 40990, '26990', 26777, '31600', '31200 TV', '31100',\n",
       "       '101850', '31000', '32000', '37000', '35520', '34700', '36300',\n",
       "       '44800 TV', '34623', '40260', '35500', '39080', 'Sin costo',\n",
       "       'No aplica', '45000', '46000', 48490, '43900', '44400', '39401 MV',\n",
       "       '35000 MV', '49391 MV', '47980', '48410', '51890', '84600',\n",
       "       '35400', '32680', '27740', '23150', '41990', '22633', '23990 MV',\n",
       "       '21000', '16800', '22150', '40990', '26900', '47487', '29967 MV',\n",
       "       '34407 MV', '52831 MV', '39956 MV', '11099 MV', '28600', '23400',\n",
       "       '0 mensuales', '53990', '37990', '31990', '47990', '36990',\n",
       "       '49990', '25700', '26700', '27700', '27660'], dtype=object)"
      ]
     },
     "execution_count": 417,
     "metadata": {},
     "output_type": "execute_result"
    }
   ],
   "source": [
    "# Get all unique values from the column 'Cuota de manejo'.\n",
    "df['Cuota de manejo'].unique()"
   ]
  },
  {
   "cell_type": "markdown",
   "id": "676989cc-8474-4ac5-898d-ca2f831f9449",
   "metadata": {},
   "source": [
    "## Treatment of credit cards with 50% off maintenance fee"
   ]
  },
  {
   "cell_type": "code",
   "execution_count": 435,
   "id": "8de368a9-9d1e-42c4-841f-05eafd36a0df",
   "metadata": {},
   "outputs": [
    {
     "data": {
      "text/plain": [
       "38    Tarjeta de Crédito Bancolombia Sufi\n",
       "Name: nombre_tarjeta, dtype: object"
      ]
     },
     "execution_count": 435,
     "metadata": {},
     "output_type": "execute_result"
    }
   ],
   "source": [
    "# Select credit cards where the 'Cuota de manejo' indicates a 50% waived maintenance fee\n",
    "df['nombre_tarjeta'].loc[df['Cuota de manejo'] == '50% de exoneracion*']"
   ]
  },
  {
   "cell_type": "code",
   "execution_count": 440,
   "id": "904c1373-e829-493d-9b05-319eade71b0d",
   "metadata": {},
   "outputs": [],
   "source": [
    "# Use .loc to locate a specific credit card and update its 'Cuota de manejo' (maintenance fee) with a given value\n",
    "df.loc[df['nombre_tarjeta'] == 'Tarjeta de Crédito Bancolombia Sufi', 'Cuota de manejo'] = 28690"
   ]
  },
  {
   "cell_type": "code",
   "execution_count": 442,
   "id": "8f5033aa-c76d-4fe4-9af0-6879ed64098b",
   "metadata": {},
   "outputs": [
    {
     "data": {
      "text/plain": [
       "array(['15490', '16300', '20000', '30790', '26010', '24710', 34000, 42000,\n",
       "       38000, 32000, '109680', '28000', '0', '16690', 29400, '34962 MV',\n",
       "       '38900', '34900', '29600', '17900', '48900', 28690, 38400, '26490',\n",
       "       '26990 MV', '28990 MV', '29380', '29900', 'No informado',\n",
       "       '27990 MV', '28500 MV', '37990 MV', '31990 MV', '27400', '32990',\n",
       "       '25900 MV', '26533', '39000 TV', 27590, 24590, '33390*', 40990,\n",
       "       '26990', 26777, '31600', '31200 TV', '31100', '101850', '31000',\n",
       "       '32000', '37000', '35520', '34700', '36300', '44800 TV', '34623',\n",
       "       '40260', '35500', '39080', 'Sin costo', 'No aplica', '45000',\n",
       "       '46000', 48490, '43900', '44400', '39401 MV', '35000 MV',\n",
       "       '49391 MV', '47980', '48410', '51890', '84600', '35400', '32680',\n",
       "       '27740', '23150', '41990', '22633', '23990 MV', '21000', '16800',\n",
       "       '22150', '40990', '26900', '47487', '29967 MV', '34407 MV',\n",
       "       '52831 MV', '39956 MV', '11099 MV', '28600', '23400',\n",
       "       '0 mensuales', '53990', '37990', '31990', '47990', '36990',\n",
       "       '49990', '25700', '26700', '27700', '27660'], dtype=object)"
      ]
     },
     "execution_count": 442,
     "metadata": {},
     "output_type": "execute_result"
    }
   ],
   "source": [
    "# Get all unique values from the column 'Cuota de manejo'.\n",
    "df['Cuota de manejo'].unique()"
   ]
  },
  {
   "cell_type": "markdown",
   "id": "9eb2d59e-7630-4a80-88b7-c862c450f861",
   "metadata": {},
   "source": [
    "## Treatment of credit cards with unknown maintenance fee"
   ]
  },
  {
   "cell_type": "code",
   "execution_count": 451,
   "id": "23a8f605-0114-46b9-86b2-7395840f4d60",
   "metadata": {},
   "outputs": [
    {
     "data": {
      "text/plain": [
       "array(['Tarjeta de Crédito Banco Caja Social Círculo de suboficiales de las FFMM Mastercard',\n",
       "       'Tarjeta de Crédito Banco Caja Social Círculo de suboficiales de las FFMM Visa',\n",
       "       'Tarjeta de Crédito Banco Caja Social Comfacesar',\n",
       "       'Tarjeta de Crédito GNB Sudameris Visa Corporativa'], dtype=object)"
      ]
     },
     "execution_count": 451,
     "metadata": {},
     "output_type": "execute_result"
    }
   ],
   "source": [
    "# Select the unique credit card names where the 'Cuota de manejo' (maintenance fee) is not informed\n",
    "df['nombre_tarjeta'].loc[df['Cuota de manejo'] == 'No informado'].unique()"
   ]
  },
  {
   "cell_type": "code",
   "execution_count": 453,
   "id": "9a17a727-9340-4530-80fa-542aef925d06",
   "metadata": {},
   "outputs": [],
   "source": [
    "# Dictionary mapping credit cards with missing maintenance fee to their corresponding values\n",
    "coutas_no_informadas = {'Tarjeta de Crédito Banco Caja Social Círculo de suboficiales de las FFMM Mastercard':4000,\n",
    "                       'Tarjeta de Crédito Banco Caja Social Círculo de suboficiales de las FFMM Visa':4000,\n",
    "                       'Tarjeta de Crédito Banco Caja Social Comfacesar': 13900,\n",
    "                       'Tarjeta de Crédito GNB Sudameris Visa Corporativa': 30400}\n",
    "\n",
    "# Iterate over the dictionary to update the 'Cuota de manejo' column for each card\n",
    "for name, valor in coutas_no_informadas.items():\n",
    "    df.loc[df['nombre_tarjeta'] == name, 'Cuota de manejo'] = valor "
   ]
  },
  {
   "cell_type": "code",
   "execution_count": 455,
   "id": "74407d94-0443-4384-bdbc-e67337f3d0a4",
   "metadata": {},
   "outputs": [
    {
     "data": {
      "text/plain": [
       "array(['15490', '16300', '20000', '30790', '26010', '24710', 34000, 42000,\n",
       "       38000, 32000, '109680', '28000', '0', '16690', 29400, '34962 MV',\n",
       "       '38900', '34900', '29600', '17900', '48900', 28690, 38400, '26490',\n",
       "       '26990 MV', '28990 MV', '29380', '29900', 4000, 13900, '27990 MV',\n",
       "       '28500 MV', '37990 MV', '31990 MV', '27400', '32990', '25900 MV',\n",
       "       '26533', '39000 TV', 27590, 24590, '33390*', 40990, '26990', 26777,\n",
       "       '31600', '31200 TV', '31100', '101850', '31000', '32000', '37000',\n",
       "       '35520', '34700', '36300', '44800 TV', '34623', '40260', '35500',\n",
       "       '39080', 'Sin costo', 'No aplica', '45000', '46000', 48490,\n",
       "       '43900', '44400', '39401 MV', '35000 MV', '49391 MV', '47980',\n",
       "       '48410', '51890', '84600', '35400', '32680', '27740', '23150',\n",
       "       '41990', '22633', '23990 MV', '21000', '16800', '22150', '40990',\n",
       "       '26900', '47487', 30400, '29967 MV', '34407 MV', '52831 MV',\n",
       "       '39956 MV', '11099 MV', '28600', '23400', '0 mensuales', '53990',\n",
       "       '37990', '31990', '47990', '36990', '49990', '25700', '26700',\n",
       "       '27700', '27660'], dtype=object)"
      ]
     },
     "execution_count": 455,
     "metadata": {},
     "output_type": "execute_result"
    }
   ],
   "source": [
    "# Get all unique values from the column 'Cuota de manejo'.\n",
    "df['Cuota de manejo'].unique()"
   ]
  },
  {
   "cell_type": "markdown",
   "id": "1d32e5f5-2d26-45bd-8c55-5366c9486bec",
   "metadata": {},
   "source": [
    "## Treatment of credit cards where the maintenance fee doesn't apply\n"
   ]
  },
  {
   "cell_type": "code",
   "execution_count": 460,
   "id": "00433966-c1e5-47bb-b400-e963fb6513a3",
   "metadata": {},
   "outputs": [
    {
     "data": {
      "text/plain": [
       "array(['Tarjeta de Crédito GNB Sudameris Mastercard GNB Premier',\n",
       "       'Tarjeta de Crédito GNB Sudameris Visa Signature'], dtype=object)"
      ]
     },
     "execution_count": 460,
     "metadata": {},
     "output_type": "execute_result"
    }
   ],
   "source": [
    "# Select the unique credit card names where the 'Cuota de manejo' (maintenance fee) does not apply\n",
    "df['nombre_tarjeta'].loc[df['Cuota de manejo'] == 'No aplica'].unique()"
   ]
  },
  {
   "cell_type": "code",
   "execution_count": 462,
   "id": "f7a971ca-ddba-4497-b1b9-1a725af85ca0",
   "metadata": {},
   "outputs": [],
   "source": [
    "# Use .loc to locate specific credit cards and update their 'Cuota de manejo' (maintenance fee) with given values\n",
    "df.loc[df['nombre_tarjeta'] == 'Tarjeta de Crédito GNB Sudameris Mastercard GNB Premier', 'Cuota de manejo'] = 0\n",
    "df.loc[df['nombre_tarjeta'] == 'Tarjeta de Crédito GNB Sudameris Visa Signature', 'Cuota de manejo'] = 47000"
   ]
  },
  {
   "cell_type": "code",
   "execution_count": 464,
   "id": "6ff87d95-52e5-4278-aebc-f197a8bb0def",
   "metadata": {},
   "outputs": [
    {
     "data": {
      "text/plain": [
       "array(['15490', '16300', '20000', '30790', '26010', '24710', 34000, 42000,\n",
       "       38000, 32000, '109680', '28000', '0', '16690', 29400, '34962 MV',\n",
       "       '38900', '34900', '29600', '17900', '48900', 28690, 38400, '26490',\n",
       "       '26990 MV', '28990 MV', '29380', '29900', 4000, 13900, '27990 MV',\n",
       "       '28500 MV', '37990 MV', '31990 MV', '27400', '32990', '25900 MV',\n",
       "       '26533', '39000 TV', 27590, 24590, '33390*', 40990, '26990', 26777,\n",
       "       '31600', '31200 TV', '31100', '101850', '31000', '32000', '37000',\n",
       "       '35520', '34700', '36300', '44800 TV', '34623', '40260', '35500',\n",
       "       '39080', 'Sin costo', 0, 47000, '45000', '46000', 48490, '43900',\n",
       "       '44400', '39401 MV', '35000 MV', '49391 MV', '47980', '48410',\n",
       "       '51890', '84600', '35400', '32680', '27740', '23150', '41990',\n",
       "       '22633', '23990 MV', '21000', '16800', '22150', '40990', '26900',\n",
       "       '47487', 30400, '29967 MV', '34407 MV', '52831 MV', '39956 MV',\n",
       "       '11099 MV', '28600', '23400', '0 mensuales', '53990', '37990',\n",
       "       '31990', '47990', '36990', '49990', '25700', '26700', '27700',\n",
       "       '27660'], dtype=object)"
      ]
     },
     "execution_count": 464,
     "metadata": {},
     "output_type": "execute_result"
    }
   ],
   "source": [
    "# Get all unique values from the column 'Cuota de manejo'.\n",
    "df['Cuota de manejo'].unique()"
   ]
  },
  {
   "cell_type": "markdown",
   "id": "91c9f429-febd-4853-9f56-ee7b5ed6e109",
   "metadata": {},
   "source": [
    "## Treatment of unique values in 'Cuota de manejo', converting string values to numeric"
   ]
  },
  {
   "cell_type": "code",
   "execution_count": 32,
   "id": "7f892240-2f7d-4b83-b853-41e50acd0b17",
   "metadata": {
    "collapsed": true,
    "jupyter": {
     "outputs_hidden": true
    }
   },
   "outputs": [
    {
     "ename": "NameError",
     "evalue": "name 'df' is not defined",
     "output_type": "error",
     "traceback": [
      "\u001b[1;31m---------------------------------------------------------------------------\u001b[0m",
      "\u001b[1;31mNameError\u001b[0m                                 Traceback (most recent call last)",
      "Cell \u001b[1;32mIn[32], line 2\u001b[0m\n\u001b[0;32m      1\u001b[0m \u001b[38;5;66;03m# Strip whitespace and ensure the 'Cuota de manejo' column is treated as string\u001b[39;00m\n\u001b[1;32m----> 2\u001b[0m df[\u001b[38;5;124m'\u001b[39m\u001b[38;5;124mCuota de manejo\u001b[39m\u001b[38;5;124m'\u001b[39m] \u001b[38;5;241m=\u001b[39m df[\u001b[38;5;124m'\u001b[39m\u001b[38;5;124mCuota de manejo\u001b[39m\u001b[38;5;124m'\u001b[39m]\u001b[38;5;241m.\u001b[39mastype(\u001b[38;5;28mstr\u001b[39m)\u001b[38;5;241m.\u001b[39mstr\u001b[38;5;241m.\u001b[39mstrip()\n\u001b[0;32m      3\u001b[0m \u001b[38;5;66;03m# Replace specific string patterns and anomalies with numeric values or standardized representations\u001b[39;00m\n\u001b[0;32m      4\u001b[0m df[\u001b[38;5;124m'\u001b[39m\u001b[38;5;124mCuota de manejo\u001b[39m\u001b[38;5;124m'\u001b[39m] \u001b[38;5;241m=\u001b[39m df[\u001b[38;5;124m'\u001b[39m\u001b[38;5;124mCuota de manejo\u001b[39m\u001b[38;5;124m'\u001b[39m]\u001b[38;5;241m.\u001b[39mreplace({\u001b[38;5;124m'\u001b[39m\u001b[38;5;124m34962 MV\u001b[39m\u001b[38;5;124m'\u001b[39m: \u001b[38;5;241m34962\u001b[39m,\n\u001b[0;32m      5\u001b[0m                                                       \u001b[38;5;124m'\u001b[39m\u001b[38;5;124m26990 MV\u001b[39m\u001b[38;5;124m'\u001b[39m: \u001b[38;5;241m26990\u001b[39m,\n\u001b[0;32m      6\u001b[0m                                                        \u001b[38;5;124m'\u001b[39m\u001b[38;5;124m28990 MV\u001b[39m\u001b[38;5;124m'\u001b[39m: \u001b[38;5;241m28990\u001b[39m,\n\u001b[1;32m   (...)\u001b[0m\n\u001b[0;32m     26\u001b[0m                                                       \u001b[38;5;124m'\u001b[39m\u001b[38;5;124mSin costo\u001b[39m\u001b[38;5;124m'\u001b[39m: \u001b[38;5;241m0\u001b[39m,\n\u001b[0;32m     27\u001b[0m                                                       \u001b[38;5;124m'\u001b[39m\u001b[38;5;124m*\u001b[39m\u001b[38;5;124m'\u001b[39m: \u001b[38;5;124m'\u001b[39m\u001b[38;5;124m'\u001b[39m})\n",
      "\u001b[1;31mNameError\u001b[0m: name 'df' is not defined"
     ]
    }
   ],
   "source": [
    "# Strip whitespace and ensure the 'Cuota de manejo' column is treated as string\n",
    "df['Cuota de manejo'] = df['Cuota de manejo'].astype(str).str.strip()\n",
    "# Replace specific string patterns and anomalies with numeric values or standardized representations\n",
    "df['Cuota de manejo'] = df['Cuota de manejo'].replace({'34962 MV': 34962,\n",
    "                                                      '26990 MV': 26990,\n",
    "                                                       '28990 MV': 28990,\n",
    "                                                       '27990 MV': 27990,\n",
    "                                                       '28500 MV': 28500,\n",
    "                                                       '37990 MV': 37990,\n",
    "                                                       '31990 MV': 31990,\n",
    "                                                       '25900 MV': 25900,\n",
    "                                                       '39000 TV': 39000,\n",
    "                                                       '33390*': 33390,\n",
    "                                                       '31200 TV': 31200,\n",
    "                                                       '44800 TV': 44800,\n",
    "                                                       '39401 MV': 39401,\n",
    "                                                       '35000 MV': 35000,\n",
    "                                                       '49391 MV': 49391,\n",
    "                                                       '23990 MV': 23990,\n",
    "                                                       '29967 MV': 29967,\n",
    "                                                       '34407 MV': 34407,\n",
    "                                                       '52831 MV': 52831,\n",
    "                                                       '39956 MV': 39956,\n",
    "                                                       '11099 MV': 11099,\n",
    "                                                      '0 mensuales': 0,\n",
    "                                                      'Sin costo': 0,\n",
    "                                                      '*': ''})\n",
    "# Convert the column to numeric, coercing any remaining non-numeric values to NaN\n",
    "df['Cuota de manejo'] = pd.to_numeric(df['Cuota de manejo'], errors='coerce')"
   ]
  },
  {
   "cell_type": "code",
   "execution_count": 511,
   "id": "3061b490-aabb-4aff-9321-cd561ff38a9c",
   "metadata": {},
   "outputs": [
    {
     "data": {
      "text/plain": [
       "array([ 15490,  16300,  20000,  30790,  26010,  24710,  34000,  42000,\n",
       "        38000,  32000, 109680,  28000,      0,  16690,  29400,  34962,\n",
       "        38900,  34900,  29600,  17900,  48900,  28690,  38400,  26490,\n",
       "        26990,  28990,  29380,  29900,   4000,  13900,  27990,  28500,\n",
       "        37990,  31990,  27400,  32990,  25900,  26533,  39000,  27590,\n",
       "        24590,  33390,  40990,  26777,  31600,  31200,  31100, 101850,\n",
       "        31000,  37000,  35520,  34700,  36300,  44800,  34623,  40260,\n",
       "        35500,  39080,  47000,  45000,  46000,  48490,  43900,  44400,\n",
       "        39401,  35000,  49391,  47980,  48410,  51890,  84600,  35400,\n",
       "        32680,  27740,  23150,  41990,  22633,  23990,  21000,  16800,\n",
       "        22150,  26900,  47487,  30400,  29967,  34407,  52831,  39956,\n",
       "        11099,  28600,  23400,  53990,  47990,  36990,  49990,  25700,\n",
       "        26700,  27700,  27660], dtype=int64)"
      ]
     },
     "execution_count": 511,
     "metadata": {},
     "output_type": "execute_result"
    }
   ],
   "source": [
    "# Get all unique values from the column 'Cuota de manejo'.\n",
    "df['Cuota de manejo'].unique()"
   ]
  },
  {
   "cell_type": "markdown",
   "id": "977a4280-05bd-4867-aca0-2a322205df51",
   "metadata": {},
   "source": [
    "# Treatment of the 'Marca' column"
   ]
  },
  {
   "cell_type": "code",
   "execution_count": 517,
   "id": "19222e39-5970-4f1c-a7e2-4c7ac9b2785a",
   "metadata": {},
   "outputs": [
    {
     "data": {
      "text/plain": [
       "array([' Mastercard', ' Visa', ' Diners Club', ' American Express',\n",
       "       ' Tarjetas Privadas', ' MasterCard', ' Tarjetas privadas'],\n",
       "      dtype=object)"
      ]
     },
     "execution_count": 517,
     "metadata": {},
     "output_type": "execute_result"
    }
   ],
   "source": [
    "# Get all unique values from the column 'Marca'.\n",
    "df['Marca'].unique()"
   ]
  },
  {
   "cell_type": "code",
   "execution_count": 533,
   "id": "86f4147d-d05d-4e45-9c50-07e4beb72749",
   "metadata": {},
   "outputs": [],
   "source": [
    "# Convert the 'Marca' column to string, remove leading/trailing whitespace, and standardize all text to lowercase\n",
    "df['Marca'] = df['Marca'].astype(str).str.strip().str.lower()"
   ]
  },
  {
   "cell_type": "code",
   "execution_count": 535,
   "id": "7a063c9c-028b-4f4d-8589-233f7aa0873b",
   "metadata": {},
   "outputs": [
    {
     "data": {
      "text/plain": [
       "array(['mastercard', 'visa', 'diners club', 'american express',\n",
       "       'tarjetas privadas'], dtype=object)"
      ]
     },
     "execution_count": 535,
     "metadata": {},
     "output_type": "execute_result"
    }
   ],
   "source": [
    "# Get all unique values from the column 'Marca'.\n",
    "df['Marca'].unique()"
   ]
  },
  {
   "cell_type": "markdown",
   "id": "1174c5a0-0ba0-418d-adac-7209fb0c025a",
   "metadata": {},
   "source": [
    "# Treatment of the 'Solicitar' column"
   ]
  },
  {
   "cell_type": "code",
   "execution_count": 542,
   "id": "d609b887-2a18-43c1-ae07-efa7cd580ae3",
   "metadata": {},
   "outputs": [
    {
     "data": {
      "text/html": [
       "<div>\n",
       "<style scoped>\n",
       "    .dataframe tbody tr th:only-of-type {\n",
       "        vertical-align: middle;\n",
       "    }\n",
       "\n",
       "    .dataframe tbody tr th {\n",
       "        vertical-align: top;\n",
       "    }\n",
       "\n",
       "    .dataframe thead th {\n",
       "        text-align: right;\n",
       "    }\n",
       "</style>\n",
       "<table border=\"1\" class=\"dataframe\">\n",
       "  <thead>\n",
       "    <tr style=\"text-align: right;\">\n",
       "      <th></th>\n",
       "      <th>nombre_tarjeta</th>\n",
       "      <th>Tasa de interés mensual</th>\n",
       "      <th>Ingreso mínimo</th>\n",
       "      <th>Cuota de manejo</th>\n",
       "      <th>Marca</th>\n",
       "      <th>Solicitar</th>\n",
       "      <th>Costo de avance en efectivo</th>\n",
       "      <th>Tipo de tarjeta</th>\n",
       "      <th>Tasa de interes no informada</th>\n",
       "      <th>ingreso minimo no informado</th>\n",
       "    </tr>\n",
       "  </thead>\n",
       "  <tbody>\n",
       "    <tr>\n",
       "      <th>0</th>\n",
       "      <td>Tarjeta de Crédito Bancolombia Mastercard Joven</td>\n",
       "      <td>2.01</td>\n",
       "      <td>200000</td>\n",
       "      <td>15490</td>\n",
       "      <td>mastercard</td>\n",
       "      <td>Online</td>\n",
       "      <td>$6.900</td>\n",
       "      <td>Internacional</td>\n",
       "      <td>1</td>\n",
       "      <td>1</td>\n",
       "    </tr>\n",
       "    <tr>\n",
       "      <th>1</th>\n",
       "      <td>Tarjeta de Crédito Banco de Occidente Masterca...</td>\n",
       "      <td>2.24</td>\n",
       "      <td>500000</td>\n",
       "      <td>16300</td>\n",
       "      <td>mastercard</td>\n",
       "      <td>Online</td>\n",
       "      <td>$6,800</td>\n",
       "      <td>Internacional</td>\n",
       "      <td>1</td>\n",
       "      <td>1</td>\n",
       "    </tr>\n",
       "    <tr>\n",
       "      <th>2</th>\n",
       "      <td>Tarjeta de Crédito Banco de Occidente Visa Joven</td>\n",
       "      <td>2.24</td>\n",
       "      <td>500000</td>\n",
       "      <td>16300</td>\n",
       "      <td>visa</td>\n",
       "      <td>Online</td>\n",
       "      <td>$6,800</td>\n",
       "      <td>Internacional</td>\n",
       "      <td>1</td>\n",
       "      <td>1</td>\n",
       "    </tr>\n",
       "    <tr>\n",
       "      <th>3</th>\n",
       "      <td>Tarjeta de Crédito Davivienda Visa Liviana</td>\n",
       "      <td>2.16</td>\n",
       "      <td>1423500</td>\n",
       "      <td>20000</td>\n",
       "      <td>visa</td>\n",
       "      <td>Presencial</td>\n",
       "      <td>NaN</td>\n",
       "      <td>Internacional</td>\n",
       "      <td>1</td>\n",
       "      <td>1</td>\n",
       "    </tr>\n",
       "    <tr>\n",
       "      <th>4</th>\n",
       "      <td>Tarjeta de Crédito Davivienda Diners Club Liviana</td>\n",
       "      <td>2.16</td>\n",
       "      <td>1423500</td>\n",
       "      <td>20000</td>\n",
       "      <td>diners club</td>\n",
       "      <td>Presencial</td>\n",
       "      <td>NaN</td>\n",
       "      <td>Internacional</td>\n",
       "      <td>1</td>\n",
       "      <td>1</td>\n",
       "    </tr>\n",
       "  </tbody>\n",
       "</table>\n",
       "</div>"
      ],
      "text/plain": [
       "                                      nombre_tarjeta  Tasa de interés mensual  \\\n",
       "0    Tarjeta de Crédito Bancolombia Mastercard Joven                     2.01   \n",
       "1  Tarjeta de Crédito Banco de Occidente Masterca...                     2.24   \n",
       "2   Tarjeta de Crédito Banco de Occidente Visa Joven                     2.24   \n",
       "3         Tarjeta de Crédito Davivienda Visa Liviana                     2.16   \n",
       "4  Tarjeta de Crédito Davivienda Diners Club Liviana                     2.16   \n",
       "\n",
       "   Ingreso mínimo  Cuota de manejo        Marca    Solicitar  \\\n",
       "0          200000            15490   mastercard       Online   \n",
       "1          500000            16300   mastercard       Online   \n",
       "2          500000            16300         visa       Online   \n",
       "3         1423500            20000         visa   Presencial   \n",
       "4         1423500            20000  diners club   Presencial   \n",
       "\n",
       "  Costo de avance en efectivo Tipo de tarjeta  Tasa de interes no informada  \\\n",
       "0                      $6.900   Internacional                             1   \n",
       "1                      $6,800   Internacional                             1   \n",
       "2                      $6,800   Internacional                             1   \n",
       "3                         NaN   Internacional                             1   \n",
       "4                         NaN   Internacional                             1   \n",
       "\n",
       "   ingreso minimo no informado  \n",
       "0                            1  \n",
       "1                            1  \n",
       "2                            1  \n",
       "3                            1  \n",
       "4                            1  "
      ]
     },
     "execution_count": 542,
     "metadata": {},
     "output_type": "execute_result"
    }
   ],
   "source": [
    "# Display the first few rows of the dataframe to inspect the cleaned and transformed data\n",
    "df.head()"
   ]
  },
  {
   "cell_type": "code",
   "execution_count": 546,
   "id": "bc32710c-c95d-454e-9d41-ec44f459caf2",
   "metadata": {},
   "outputs": [
    {
     "data": {
      "text/plain": [
       "array([' Online', ' Presencial', ' No', ' Sí'], dtype=object)"
      ]
     },
     "execution_count": 546,
     "metadata": {},
     "output_type": "execute_result"
    }
   ],
   "source": [
    "# Get all unique values from the column 'Solicitar'.\n",
    "df['Solicitar'].unique()"
   ]
  },
  {
   "cell_type": "code",
   "execution_count": 548,
   "id": "de2d8fa7-5c4d-4971-8639-851ed7bc3749",
   "metadata": {},
   "outputs": [
    {
     "data": {
      "text/plain": [
       "Solicitar\n",
       "Online        86\n",
       "Sí            68\n",
       "No            50\n",
       "Presencial    30\n",
       "Name: count, dtype: int64"
      ]
     },
     "execution_count": 548,
     "metadata": {},
     "output_type": "execute_result"
    }
   ],
   "source": [
    "# Count and display the frequency of each unique value in the 'Solicitar' column\n",
    "df['Solicitar'].value_counts()"
   ]
  },
  {
   "cell_type": "code",
   "execution_count": 554,
   "id": "300c6c33-2eb1-4566-a633-13edd94a27d6",
   "metadata": {},
   "outputs": [],
   "source": [
    "# Define a function to standardize availability values:\n",
    "# - Converts the input to lowercase text\n",
    "# - Returns 1 if the value indicates availability ('online', 'presencial', 'sí')\n",
    "# - Returns 0 for all other cases\n",
    "def disponibilidad(valor):\n",
    "    valor = str(valor).strip().lower()\n",
    "    if valor in ['online', 'presencial', 'sí']:\n",
    "        return 1\n",
    "    else:\n",
    "        return 0\n",
    "\n",
    "# Apply the function to the column 'Solicitar' and create a new binary column 'Disponibilidad'\n",
    "df['Disponibilidad'] = df['Solicitar'].apply(disponibilidad)"
   ]
  },
  {
   "cell_type": "code",
   "execution_count": 558,
   "id": "a6f65ec2-fb67-4f28-979c-95ddd04b5fcc",
   "metadata": {},
   "outputs": [],
   "source": [
    "df['Solicitar']= df['Solicitar'].replace({' Sí': 'ambas', ' No': np.nan})"
   ]
  },
  {
   "cell_type": "markdown",
   "id": "e0dc7a05-4209-43a1-b015-8ea10cb28972",
   "metadata": {},
   "source": [
    "# Treatment of the 'Costo de avance en efectivo' column"
   ]
  },
  {
   "cell_type": "code",
   "execution_count": 562,
   "id": "c926d7a6-01ed-419a-b192-1c9268dea680",
   "metadata": {},
   "outputs": [
    {
     "data": {
      "text/html": [
       "<div>\n",
       "<style scoped>\n",
       "    .dataframe tbody tr th:only-of-type {\n",
       "        vertical-align: middle;\n",
       "    }\n",
       "\n",
       "    .dataframe tbody tr th {\n",
       "        vertical-align: top;\n",
       "    }\n",
       "\n",
       "    .dataframe thead th {\n",
       "        text-align: right;\n",
       "    }\n",
       "</style>\n",
       "<table border=\"1\" class=\"dataframe\">\n",
       "  <thead>\n",
       "    <tr style=\"text-align: right;\">\n",
       "      <th></th>\n",
       "      <th>nombre_tarjeta</th>\n",
       "      <th>Tasa de interés mensual</th>\n",
       "      <th>Ingreso mínimo</th>\n",
       "      <th>Cuota de manejo</th>\n",
       "      <th>Marca</th>\n",
       "      <th>Solicitar</th>\n",
       "      <th>Costo de avance en efectivo</th>\n",
       "      <th>Tipo de tarjeta</th>\n",
       "      <th>Tasa de interes no informada</th>\n",
       "      <th>ingreso minimo no informado</th>\n",
       "      <th>Disponibilidad</th>\n",
       "    </tr>\n",
       "  </thead>\n",
       "  <tbody>\n",
       "    <tr>\n",
       "      <th>0</th>\n",
       "      <td>Tarjeta de Crédito Bancolombia Mastercard Joven</td>\n",
       "      <td>2.01</td>\n",
       "      <td>200000</td>\n",
       "      <td>15490</td>\n",
       "      <td>mastercard</td>\n",
       "      <td>Online</td>\n",
       "      <td>$6.900</td>\n",
       "      <td>Internacional</td>\n",
       "      <td>1</td>\n",
       "      <td>1</td>\n",
       "      <td>1</td>\n",
       "    </tr>\n",
       "    <tr>\n",
       "      <th>1</th>\n",
       "      <td>Tarjeta de Crédito Banco de Occidente Masterca...</td>\n",
       "      <td>2.24</td>\n",
       "      <td>500000</td>\n",
       "      <td>16300</td>\n",
       "      <td>mastercard</td>\n",
       "      <td>Online</td>\n",
       "      <td>$6,800</td>\n",
       "      <td>Internacional</td>\n",
       "      <td>1</td>\n",
       "      <td>1</td>\n",
       "      <td>1</td>\n",
       "    </tr>\n",
       "    <tr>\n",
       "      <th>2</th>\n",
       "      <td>Tarjeta de Crédito Banco de Occidente Visa Joven</td>\n",
       "      <td>2.24</td>\n",
       "      <td>500000</td>\n",
       "      <td>16300</td>\n",
       "      <td>visa</td>\n",
       "      <td>Online</td>\n",
       "      <td>$6,800</td>\n",
       "      <td>Internacional</td>\n",
       "      <td>1</td>\n",
       "      <td>1</td>\n",
       "      <td>1</td>\n",
       "    </tr>\n",
       "    <tr>\n",
       "      <th>3</th>\n",
       "      <td>Tarjeta de Crédito Davivienda Visa Liviana</td>\n",
       "      <td>2.16</td>\n",
       "      <td>1423500</td>\n",
       "      <td>20000</td>\n",
       "      <td>visa</td>\n",
       "      <td>Presencial</td>\n",
       "      <td>NaN</td>\n",
       "      <td>Internacional</td>\n",
       "      <td>1</td>\n",
       "      <td>1</td>\n",
       "      <td>1</td>\n",
       "    </tr>\n",
       "    <tr>\n",
       "      <th>4</th>\n",
       "      <td>Tarjeta de Crédito Davivienda Diners Club Liviana</td>\n",
       "      <td>2.16</td>\n",
       "      <td>1423500</td>\n",
       "      <td>20000</td>\n",
       "      <td>diners club</td>\n",
       "      <td>Presencial</td>\n",
       "      <td>NaN</td>\n",
       "      <td>Internacional</td>\n",
       "      <td>1</td>\n",
       "      <td>1</td>\n",
       "      <td>1</td>\n",
       "    </tr>\n",
       "  </tbody>\n",
       "</table>\n",
       "</div>"
      ],
      "text/plain": [
       "                                      nombre_tarjeta  Tasa de interés mensual  \\\n",
       "0    Tarjeta de Crédito Bancolombia Mastercard Joven                     2.01   \n",
       "1  Tarjeta de Crédito Banco de Occidente Masterca...                     2.24   \n",
       "2   Tarjeta de Crédito Banco de Occidente Visa Joven                     2.24   \n",
       "3         Tarjeta de Crédito Davivienda Visa Liviana                     2.16   \n",
       "4  Tarjeta de Crédito Davivienda Diners Club Liviana                     2.16   \n",
       "\n",
       "   Ingreso mínimo  Cuota de manejo        Marca    Solicitar  \\\n",
       "0          200000            15490   mastercard       Online   \n",
       "1          500000            16300   mastercard       Online   \n",
       "2          500000            16300         visa       Online   \n",
       "3         1423500            20000         visa   Presencial   \n",
       "4         1423500            20000  diners club   Presencial   \n",
       "\n",
       "  Costo de avance en efectivo Tipo de tarjeta  Tasa de interes no informada  \\\n",
       "0                      $6.900   Internacional                             1   \n",
       "1                      $6,800   Internacional                             1   \n",
       "2                      $6,800   Internacional                             1   \n",
       "3                         NaN   Internacional                             1   \n",
       "4                         NaN   Internacional                             1   \n",
       "\n",
       "   ingreso minimo no informado  Disponibilidad  \n",
       "0                            1               1  \n",
       "1                            1               1  \n",
       "2                            1               1  \n",
       "3                            1               1  \n",
       "4                            1               1  "
      ]
     },
     "execution_count": 562,
     "metadata": {},
     "output_type": "execute_result"
    }
   ],
   "source": [
    "# Display the first few rows of the dataframe to inspect the cleaned and transformed data\n",
    "df.head()"
   ]
  },
  {
   "cell_type": "code",
   "execution_count": 566,
   "id": "7b0b5cfc-5cb1-4e8f-8d50-eb123632d36d",
   "metadata": {},
   "outputs": [
    {
     "data": {
      "text/plain": [
       "array([' $6.900', ' $6,800', nan, ' $5.560', ' $6.545', ' $10.520',\n",
       "       ' $ 0', ' $11,099', ' $10.500', ' $14,900', ' $8,571', ' $0',\n",
       "       ' $26.990'], dtype=object)"
      ]
     },
     "execution_count": 566,
     "metadata": {},
     "output_type": "execute_result"
    }
   ],
   "source": [
    "# Get all unique values from the column 'Costo de avance en efectivo'.\n",
    "df['Costo de avance en efectivo'].unique()"
   ]
  },
  {
   "cell_type": "code",
   "execution_count": 582,
   "id": "be959907-fa42-4f49-9663-fa45166b669d",
   "metadata": {},
   "outputs": [],
   "source": [
    "# Selects the unique credit card names where the column 'Costo de avance en efectivo' has missing values (NaN)\n",
    "# the object was called 'tarjetas_davivienda' because the missing values correspond to Davivienda bank cards\n",
    "tarjetas_davivienda = df['nombre_tarjeta'].loc[pd.isna(df['Costo de avance en efectivo'])].unique()"
   ]
  },
  {
   "cell_type": "code",
   "execution_count": 584,
   "id": "71ee9cd7-6f25-4b41-83da-b4a4c3166b98",
   "metadata": {},
   "outputs": [],
   "source": [
    "# For all rows where the card name is in 'tarjetas_davivienda' and the column 'Costo de avance en efectivo' is missing (NaN),\n",
    "# assigns the value 6400 to 'Costo de avance en efectivo'.\n",
    "df.loc[df['nombre_tarjeta'].isin(tarjetas_davivienda) & df['Costo de avance en efectivo'].isna(), 'Costo de avance en efectivo'] = 6400"
   ]
  },
  {
   "cell_type": "code",
   "execution_count": 857,
   "id": "a331acd6-ac47-45d9-a3ca-4b97de8159a3",
   "metadata": {},
   "outputs": [
    {
     "name": "stderr",
     "output_type": "stream",
     "text": [
      "<>:1: SyntaxWarning: invalid escape sequence '\\$'\n",
      "<>:1: SyntaxWarning: invalid escape sequence '\\$'\n",
      "C:\\Users\\santi\\AppData\\Local\\Temp\\ipykernel_34312\\1240917617.py:1: SyntaxWarning: invalid escape sequence '\\$'\n",
      "  df['Costo de avance en efectivo'] = df['Costo de avance en efectivo'].astype(str).str.replace('[\\$.,]', '', regex=True).str.strip()\n"
     ]
    }
   ],
   "source": [
    "# Cleans the 'Costo de avance en efectivo' column by converting values to strings, \n",
    "# removing currency symbols ($, . ,), and stripping extra spaces.\n",
    "df['Costo de avance en efectivo'] = df['Costo de avance en efectivo'].astype(str).str.replace('[\\$.,]', '', regex=True).str.strip()"
   ]
  },
  {
   "cell_type": "code",
   "execution_count": 861,
   "id": "8090b0a4-5189-460a-a436-ac264d69de7a",
   "metadata": {},
   "outputs": [
    {
     "data": {
      "text/plain": [
       "nombre_tarjeta                    0\n",
       "Tasa de interés mensual          10\n",
       "Ingreso mínimo                  119\n",
       "Cuota de manejo                   0\n",
       "Marca                             0\n",
       "Solicitar                        50\n",
       "Costo de avance en efectivo       0\n",
       "Tipo de tarjeta                   0\n",
       "Tasa de interes no informada      0\n",
       "ingreso minimo no informado       0\n",
       "Disponibilidad                    0\n",
       "dtype: int64"
      ]
     },
     "execution_count": 861,
     "metadata": {},
     "output_type": "execute_result"
    }
   ],
   "source": [
    "# Counts the number of missing values (NaN) in each column of the DataFrame.\n",
    "df.isnull().sum()"
   ]
  },
  {
   "cell_type": "code",
   "execution_count": 863,
   "id": "cde4eece-df3a-451c-8215-1e9f3e5f9f88",
   "metadata": {},
   "outputs": [
    {
     "data": {
      "text/plain": [
       "array(['6900', '6800', '6400', '5560', '6545', '10520', '0', '11099',\n",
       "       '10500', '14900', '8571', '26990'], dtype=object)"
      ]
     },
     "execution_count": 863,
     "metadata": {},
     "output_type": "execute_result"
    }
   ],
   "source": [
    "# Get all the unique values present in the column 'Costo de avance en efectivo'.\n",
    "df['Costo de avance en efectivo'].unique()"
   ]
  },
  {
   "cell_type": "markdown",
   "id": "b3b5d87f-3367-4fab-95c5-f076824c3430",
   "metadata": {},
   "source": [
    "# Treatment of the 'Tipo de tarjeta' column \n"
   ]
  },
  {
   "cell_type": "code",
   "execution_count": 589,
   "id": "5be5199b-85d9-4a14-8121-5a3261308098",
   "metadata": {},
   "outputs": [
    {
     "data": {
      "text/plain": [
       "array([' Internacional', ' Nacional', nan], dtype=object)"
      ]
     },
     "execution_count": 589,
     "metadata": {},
     "output_type": "execute_result"
    }
   ],
   "source": [
    "# Get all unique values from the column 'Tipo de tarjeta'.\n",
    "df['Tipo de tarjeta'].unique()"
   ]
  },
  {
   "cell_type": "code",
   "execution_count": 768,
   "id": "b9fa5751-fce2-45c2-823a-b106f756b092",
   "metadata": {},
   "outputs": [
    {
     "data": {
      "text/plain": [
       "29                 Tarjeta de Crédito BBVA Visa Platinum\n",
       "30                      Tarjeta de Crédito BBVA Visa Oro\n",
       "31                  Tarjeta de Crédito BBVA Visa Clásica\n",
       "32                Tarjeta de Crédito BBVA Visa Congelada\n",
       "34              Tarjeta de Crédito BBVA Mastercard Black\n",
       "35           Tarjeta de Crédito BBVA Mastercard Platinum\n",
       "36               Tarjeta de Crédito BBVA Mastercard Gold\n",
       "37           Tarjeta de Crédito BBVA Mastercard Standard\n",
       "41        Tarjeta de Crédito AV Villas Portal 80 Clásica\n",
       "42           Tarjeta de Crédito AV Villas Auteco Clásica\n",
       "43     Tarjeta de Crédito AV Villas Mastercard Facilí...\n",
       "51           Tarjeta de Crédito AV Villas Portal 80 Gold\n",
       "52     Tarjeta de Crédito AV Villas Plaza de Las Amér...\n",
       "53     Tarjeta de Crédito AV Villas Plaza de Las Amér...\n",
       "54              Tarjeta de Crédito AV Villas Auteco Gold\n",
       "55     Tarjeta de Crédito AV Villas Vivamos el Tiempo...\n",
       "56     Tarjeta de Crédito AV Villas Vivamos el Tiempo...\n",
       "57     Tarjeta de Crédito AV Villas Vivamos el Tiempo...\n",
       "58      Tarjeta de Crédito AV Villas Mastercard Platinum\n",
       "59            Tarjeta de Crédito AV Villas Visa Platinum\n",
       "60          Tarjeta de Crédito AV Villas Mastercard Gold\n",
       "61                Tarjeta de Crédito AV Villas Visa Gold\n",
       "62       Tarjeta de Crédito AV Villas Mastercard Clásica\n",
       "63             Tarjeta de Crédito AV Villas Visa Clásica\n",
       "141        Tarjeta de Crédito AV Villas Mastercard Black\n",
       "177    Tarjeta de Crédito AV Villas Ventura Plaza Clá...\n",
       "178      Tarjeta de Crédito AV Villas Ventura Plaza Gold\n",
       "179            Tarjeta de Crédito BBVA Mastercard Heroes\n",
       "Name: nombre_tarjeta, dtype: object"
      ]
     },
     "execution_count": 768,
     "metadata": {},
     "output_type": "execute_result"
    }
   ],
   "source": [
    "# Selects the credit card names where the column 'Tipo de tarjeta' has missing values (NaN) \n",
    "# and stores them in the object 'tipo_nulo'.\n",
    "tipo_nulo = df['nombre_tarjeta'].loc[df['Tipo de tarjeta'].isna()]\n",
    "tipo_nulo"
   ]
  },
  {
   "cell_type": "markdown",
   "id": "64a30177-2c6d-4318-9116-31fd62a51e38",
   "metadata": {},
   "source": [
    "### After checking which credit cards don't have 'Tipo de tarjeta' value. I realized there are too many missing values. therefore, I'm going to save the credit card names into a list and then apply a function, it makes the process easier and faster "
   ]
  },
  {
   "cell_type": "code",
   "execution_count": 742,
   "id": "709b0f52-6dfd-4ad9-bdec-a9cd220c0ef0",
   "metadata": {},
   "outputs": [],
   "source": [
    "# Create empty lists to store credit card names by their corresponding bank\n",
    "itau = []\n",
    "BBVA = []\n",
    "Av_villas = []\n",
    "cencosud = []\n",
    "finandina = []\n",
    "gnb = []\n",
    "falabella = []\n",
    "Scotiabank = []\n",
    "davivienda = []\n",
    "codensa = []\n",
    "\n",
    "# Loop through each credit card name in 'tipo_nulo' (those with missing 'Tipo de tarjeta')\n",
    "for i in tipo_nulo:\n",
    "    # Check the bank name inside the card name and append it to the corresponding list\n",
    "    if 'Itaú' in i:\n",
    "        itau.append(i)\n",
    "    elif 'BBVA' in i:\n",
    "        BBVA.append(i)\n",
    "    elif 'AV Villas' in i:\n",
    "        Av_villas.append(i)\n",
    "    elif 'Cencosud' in i:\n",
    "        cencosud.append(i)\n",
    "    elif 'Finandina' in i:\n",
    "        finandina.append(i)\n",
    "    elif 'GNB' in i:\n",
    "        gnb.append(i)\n",
    "    elif 'Falabella' in i:\n",
    "        falabella.append(i)\n",
    "    elif 'Scotiabank' in i:\n",
    "        Scotiabank.append(i)\n",
    "    elif 'Davivienda' in i:\n",
    "        davivienda.append(i)\n",
    "    elif 'CODENSA' in i:\n",
    "        codensa.append(i)\n",
    "        "
   ]
  },
  {
   "cell_type": "code",
   "execution_count": 794,
   "id": "0a9e8adc-faa5-42a3-badc-33eb4e5cecb0",
   "metadata": {},
   "outputs": [
    {
     "data": {
      "text/plain": [
       "['Tarjeta de Crédito AV Villas Portal 80 Clásica',\n",
       " 'Tarjeta de Crédito AV Villas Auteco Clásica',\n",
       " 'Tarjeta de Crédito AV Villas Mastercard Facilísima',\n",
       " 'Tarjeta de Crédito AV Villas Portal 80 Gold',\n",
       " 'Tarjeta de Crédito AV Villas Plaza de Las Américas Gold',\n",
       " 'Tarjeta de Crédito AV Villas Plaza de Las Américas Clásica',\n",
       " 'Tarjeta de Crédito AV Villas Auteco Gold',\n",
       " 'Tarjeta de Crédito AV Villas Vivamos el Tiempo Platino',\n",
       " 'Tarjeta de Crédito AV Villas Vivamos el Tiempo Gold',\n",
       " 'Tarjeta de Crédito AV Villas Vivamos el Tiempo Clásica',\n",
       " 'Tarjeta de Crédito AV Villas Mastercard Platinum',\n",
       " 'Tarjeta de Crédito AV Villas Visa Platinum',\n",
       " 'Tarjeta de Crédito AV Villas Mastercard Gold',\n",
       " 'Tarjeta de Crédito AV Villas Visa Gold',\n",
       " 'Tarjeta de Crédito AV Villas Mastercard Clásica',\n",
       " 'Tarjeta de Crédito AV Villas Visa Clásica',\n",
       " 'Tarjeta de Crédito AV Villas Mastercard Black',\n",
       " 'Tarjeta de Crédito AV Villas Ventura Plaza Clásica',\n",
       " 'Tarjeta de Crédito AV Villas Ventura Plaza Gold']"
      ]
     },
     "execution_count": 794,
     "metadata": {},
     "output_type": "execute_result"
    }
   ],
   "source": [
    "Av_villas"
   ]
  },
  {
   "cell_type": "code",
   "execution_count": 746,
   "id": "952fc257-f1c8-401c-b3f9-d51f447c63a3",
   "metadata": {},
   "outputs": [],
   "source": [
    "# Define a function to assign a card type based on a single keyword in the card's name\n",
    "def tipo_tarjeta(nombre, tipo):\n",
    "    # Loop through all card names with missing 'Tipo de tarjeta'\n",
    "    for i in tipo_nulo:\n",
    "        # If the given keyword is found inside the card name\n",
    "        if nombre in i:\n",
    "            # Update the column 'Tipo de tarjeta' with the provided type\n",
    "            df.loc[df['nombre_tarjeta'] == i, 'Tipo de tarjeta'] = tipo \n",
    "\n",
    "# Define a function to assign a card type based on multiple possible keywords\n",
    "def tipo_tarjeta_listas(listas_nombre, tipo):\n",
    "    # Loop through all card names with missing 'Tipo de tarjeta'\n",
    "    for i in tipo_nulo:\n",
    "        # Loop through each keyword in the given list\n",
    "        for nombre in listas_nombre:\n",
    "             # If any of the keywords is found inside the card name\n",
    "            if nombre in i:\n",
    "                # Update the column 'Tipo de tarjeta' with the provided type\n",
    "                df.loc[df['nombre_tarjeta'] == i, 'Tipo de tarjeta'] = tipo"
   ]
  },
  {
   "cell_type": "markdown",
   "id": "de2e8792-aa68-424e-9e38-990c4c1faa2a",
   "metadata": {},
   "source": [
    "### I had some errors when I just used the bank name, so I nearly had to use the full credit card name. Finally, the function works properly"
   ]
  },
  {
   "cell_type": "code",
   "execution_count": 748,
   "id": "bb422bba-4384-448e-ab80-eff2434cbe6b",
   "metadata": {},
   "outputs": [],
   "source": [
    "tipo_tarjeta('Itaú', ' Internacional')"
   ]
  },
  {
   "cell_type": "code",
   "execution_count": 776,
   "id": "fd5d53cb-9bb1-4063-8f79-6835d3aa5a6c",
   "metadata": {},
   "outputs": [],
   "source": [
    "tipo_tarjeta_listas(['BBVA Visa Gold', 'BBVA Visa Platinum', 'BBVA Visa Black', 'BBVA Visa Oro', 'BBVA Mastercard Black', 'BBVA Mastercard Platinum',' BBVA Mastercard Gold',], ' Internacional')\n",
    "tipo_tarjeta_listas(['BBVA Visa Clásica', 'BBVA Visa Congelada', 'BBVA Mastercard Standard', 'BBVA Mastercard Heroes', 'Tarjeta BBVA World Vision'], ' Nacional')"
   ]
  },
  {
   "cell_type": "code",
   "execution_count": 846,
   "id": "2559b251-2f70-4a14-8bfe-d10d87d277a2",
   "metadata": {},
   "outputs": [],
   "source": [
    "tipo_tarjeta_listas(['AV Villas Mastercard Black', 'AV Villas Mastercard Platinum', 'AV Villas Portal 80 Gold', 'AV Villas Plaza de Las Américas Gold', 'AV Villas Auteco Gold', 'AV Villas Vivamos el Tiempo Platino',\n",
    "                    'AV Villas Vivamos el Tiempo Gold', 'AV Villas Visa Platinum', 'AV Villas Mastercard Gold', 'AV Villas Visa Gold', 'AV Villas Ventura Plaza Gold'], ' Internacional')\n",
    "tipo_tarjeta_listas(['AV Villas 80 Clásica', 'AV Villas Mastercard Facilísima', 'AV Villas Experto', 'AV Villas Portal 80 Clásica', 'AV Villas Plaza de Las Américas Clásica',\n",
    "                    'AV Villas Vivamos el Tiempo Clásica', 'AV Villas Mastercard Clásica', 'AV Villas Visa Clásica', 'AV Villas Ventura Plaza Clásica', 'AV Villas Auteco Clásica'], ' Nacional')"
   ]
  },
  {
   "cell_type": "code",
   "execution_count": 754,
   "id": "cd29770c-f006-4d79-8c79-1228e08f504f",
   "metadata": {},
   "outputs": [],
   "source": [
    "tipo_tarjeta_listas(['Cencosud Básica', 'Cencosud Clásica'], ' Nacional')\n",
    "tipo_tarjeta_listas(['Cencosud Platinum', 'Cencosud Gold', 'Cencosud Infinite'], ' Internacional')"
   ]
  },
  {
   "cell_type": "code",
   "execution_count": 756,
   "id": "af26e480-8e5e-44f8-9aa9-6d81394416cc",
   "metadata": {},
   "outputs": [],
   "source": [
    "tipo_tarjeta('Finandina', ' Internacional')"
   ]
  },
  {
   "cell_type": "code",
   "execution_count": 758,
   "id": "8df8cda4-a44e-46f7-954c-434538716b72",
   "metadata": {},
   "outputs": [],
   "source": [
    "tipo_tarjeta('GNB', ' Internacional')"
   ]
  },
  {
   "cell_type": "code",
   "execution_count": 760,
   "id": "43f47387-85eb-4a72-a867-89ebfc56314b",
   "metadata": {},
   "outputs": [],
   "source": [
    "tipo_tarjeta('Falabella', ' Internacional')\n",
    "tipo_tarjeta('Scotiabank', ' Internacional')\n",
    "tipo_tarjeta_listas(['Davivienda Clubes', 'Crédito Davivienda'], ' Internacional')\n",
    "tipo_tarjeta('Móvil Davivienda', ' Nacional')\n",
    "tipo_tarjeta('CODENSA MasterCard', ' Internacional')\n",
    "tipo_tarjeta_listas(['CODENSA Amarilla', 'CODENSA Verde'], ' Nacional')"
   ]
  },
  {
   "cell_type": "code",
   "execution_count": 848,
   "id": "9f36bdbb-fae8-4c91-b691-3066baafe82a",
   "metadata": {},
   "outputs": [
    {
     "data": {
      "text/plain": [
       "nombre_tarjeta                    0\n",
       "Tasa de interés mensual          10\n",
       "Ingreso mínimo                  119\n",
       "Cuota de manejo                   0\n",
       "Marca                             0\n",
       "Solicitar                        50\n",
       "Costo de avance en efectivo       0\n",
       "Tipo de tarjeta                   0\n",
       "Tasa de interes no informada      0\n",
       "ingreso minimo no informado       0\n",
       "Disponibilidad                    0\n",
       "dtype: int64"
      ]
     },
     "execution_count": 848,
     "metadata": {},
     "output_type": "execute_result"
    }
   ],
   "source": [
    "df.isnull().sum()"
   ]
  },
  {
   "cell_type": "markdown",
   "id": "7f4a9f7e-795e-445a-a938-e027d86f3214",
   "metadata": {},
   "source": [
    "## Clean dataframe ready for EDA and ML Training"
   ]
  },
  {
   "cell_type": "code",
   "execution_count": 869,
   "id": "d05adec1-53d8-48a8-972e-6c3555037a26",
   "metadata": {},
   "outputs": [
    {
     "data": {
      "text/html": [
       "<div>\n",
       "<style scoped>\n",
       "    .dataframe tbody tr th:only-of-type {\n",
       "        vertical-align: middle;\n",
       "    }\n",
       "\n",
       "    .dataframe tbody tr th {\n",
       "        vertical-align: top;\n",
       "    }\n",
       "\n",
       "    .dataframe thead th {\n",
       "        text-align: right;\n",
       "    }\n",
       "</style>\n",
       "<table border=\"1\" class=\"dataframe\">\n",
       "  <thead>\n",
       "    <tr style=\"text-align: right;\">\n",
       "      <th></th>\n",
       "      <th>nombre_tarjeta</th>\n",
       "      <th>Tasa de interés mensual</th>\n",
       "      <th>Ingreso mínimo</th>\n",
       "      <th>Cuota de manejo</th>\n",
       "      <th>Marca</th>\n",
       "      <th>Solicitar</th>\n",
       "      <th>Costo de avance en efectivo</th>\n",
       "      <th>Tipo de tarjeta</th>\n",
       "      <th>Tasa de interes no informada</th>\n",
       "      <th>ingreso minimo no informado</th>\n",
       "      <th>Disponibilidad</th>\n",
       "    </tr>\n",
       "  </thead>\n",
       "  <tbody>\n",
       "    <tr>\n",
       "      <th>0</th>\n",
       "      <td>Tarjeta de Crédito Bancolombia Mastercard Joven</td>\n",
       "      <td>2.01</td>\n",
       "      <td>200000</td>\n",
       "      <td>15490</td>\n",
       "      <td>mastercard</td>\n",
       "      <td>Online</td>\n",
       "      <td>6900</td>\n",
       "      <td>Internacional</td>\n",
       "      <td>1</td>\n",
       "      <td>1</td>\n",
       "      <td>1</td>\n",
       "    </tr>\n",
       "    <tr>\n",
       "      <th>1</th>\n",
       "      <td>Tarjeta de Crédito Banco de Occidente Masterca...</td>\n",
       "      <td>2.24</td>\n",
       "      <td>500000</td>\n",
       "      <td>16300</td>\n",
       "      <td>mastercard</td>\n",
       "      <td>Online</td>\n",
       "      <td>6800</td>\n",
       "      <td>Internacional</td>\n",
       "      <td>1</td>\n",
       "      <td>1</td>\n",
       "      <td>1</td>\n",
       "    </tr>\n",
       "    <tr>\n",
       "      <th>2</th>\n",
       "      <td>Tarjeta de Crédito Banco de Occidente Visa Joven</td>\n",
       "      <td>2.24</td>\n",
       "      <td>500000</td>\n",
       "      <td>16300</td>\n",
       "      <td>visa</td>\n",
       "      <td>Online</td>\n",
       "      <td>6800</td>\n",
       "      <td>Internacional</td>\n",
       "      <td>1</td>\n",
       "      <td>1</td>\n",
       "      <td>1</td>\n",
       "    </tr>\n",
       "    <tr>\n",
       "      <th>3</th>\n",
       "      <td>Tarjeta de Crédito Davivienda Visa Liviana</td>\n",
       "      <td>2.16</td>\n",
       "      <td>1423500</td>\n",
       "      <td>20000</td>\n",
       "      <td>visa</td>\n",
       "      <td>Presencial</td>\n",
       "      <td>6400</td>\n",
       "      <td>Internacional</td>\n",
       "      <td>1</td>\n",
       "      <td>1</td>\n",
       "      <td>1</td>\n",
       "    </tr>\n",
       "    <tr>\n",
       "      <th>4</th>\n",
       "      <td>Tarjeta de Crédito Davivienda Diners Club Liviana</td>\n",
       "      <td>2.16</td>\n",
       "      <td>1423500</td>\n",
       "      <td>20000</td>\n",
       "      <td>diners club</td>\n",
       "      <td>Presencial</td>\n",
       "      <td>6400</td>\n",
       "      <td>Internacional</td>\n",
       "      <td>1</td>\n",
       "      <td>1</td>\n",
       "      <td>1</td>\n",
       "    </tr>\n",
       "  </tbody>\n",
       "</table>\n",
       "</div>"
      ],
      "text/plain": [
       "                                      nombre_tarjeta  Tasa de interés mensual  \\\n",
       "0    Tarjeta de Crédito Bancolombia Mastercard Joven                     2.01   \n",
       "1  Tarjeta de Crédito Banco de Occidente Masterca...                     2.24   \n",
       "2   Tarjeta de Crédito Banco de Occidente Visa Joven                     2.24   \n",
       "3         Tarjeta de Crédito Davivienda Visa Liviana                     2.16   \n",
       "4  Tarjeta de Crédito Davivienda Diners Club Liviana                     2.16   \n",
       "\n",
       "   Ingreso mínimo  Cuota de manejo        Marca    Solicitar  \\\n",
       "0          200000            15490   mastercard       Online   \n",
       "1          500000            16300   mastercard       Online   \n",
       "2          500000            16300         visa       Online   \n",
       "3         1423500            20000         visa   Presencial   \n",
       "4         1423500            20000  diners club   Presencial   \n",
       "\n",
       "  Costo de avance en efectivo Tipo de tarjeta  Tasa de interes no informada  \\\n",
       "0                        6900   Internacional                             1   \n",
       "1                        6800   Internacional                             1   \n",
       "2                        6800   Internacional                             1   \n",
       "3                        6400   Internacional                             1   \n",
       "4                        6400   Internacional                             1   \n",
       "\n",
       "   ingreso minimo no informado  Disponibilidad  \n",
       "0                            1               1  \n",
       "1                            1               1  \n",
       "2                            1               1  \n",
       "3                            1               1  \n",
       "4                            1               1  "
      ]
     },
     "execution_count": 869,
     "metadata": {},
     "output_type": "execute_result"
    }
   ],
   "source": [
    "df.head()"
   ]
  },
  {
   "cell_type": "code",
   "execution_count": 873,
   "id": "8dfd223b-1813-4bad-a148-8ed5721aaa87",
   "metadata": {},
   "outputs": [
    {
     "name": "stdout",
     "output_type": "stream",
     "text": [
      "<class 'pandas.core.frame.DataFrame'>\n",
      "RangeIndex: 234 entries, 0 to 233\n",
      "Data columns (total 11 columns):\n",
      " #   Column                        Non-Null Count  Dtype  \n",
      "---  ------                        --------------  -----  \n",
      " 0   nombre_tarjeta                234 non-null    object \n",
      " 1   Tasa de interés mensual       224 non-null    float64\n",
      " 2   Ingreso mínimo                115 non-null    Int64  \n",
      " 3   Cuota de manejo               234 non-null    int64  \n",
      " 4   Marca                         234 non-null    object \n",
      " 5   Solicitar                     184 non-null    object \n",
      " 6   Costo de avance en efectivo   234 non-null    int64  \n",
      " 7   Tipo de tarjeta               234 non-null    object \n",
      " 8   Tasa de interes no informada  234 non-null    int32  \n",
      " 9   ingreso minimo no informado   234 non-null    int32  \n",
      " 10  Disponibilidad                234 non-null    int64  \n",
      "dtypes: Int64(1), float64(1), int32(2), int64(3), object(4)\n",
      "memory usage: 18.6+ KB\n"
     ]
    }
   ],
   "source": [
    "# Displays a concise summary of the DataFrame: number of rows and columns, column names, data types, and count of non-null values per column\n",
    "# checking types of the each column \n",
    "df.info()"
   ]
  },
  {
   "cell_type": "code",
   "execution_count": 871,
   "id": "24d0b217-ea0f-4923-aa22-16299266a25d",
   "metadata": {},
   "outputs": [],
   "source": [
    "# Converts the column 'Costo de avance en efectivo' to numeric type; non-convertible values are replaced with NaN\n",
    "df['Costo de avance en efectivo'] = pd.to_numeric(df['Costo de avance en efectivo'], errors='coerce')"
   ]
  },
  {
   "cell_type": "code",
   "execution_count": 875,
   "id": "fc07831f-33eb-4cb5-aeba-7cd9cb63a9fa",
   "metadata": {},
   "outputs": [],
   "source": [
    "# Exports the DataFrame to a CSV file named 'Dataset_credit_cards_df.csv' without including the index column\n",
    "df.to_csv('Dataset_credit_cards_df.csv', index=False)"
   ]
  },
  {
   "cell_type": "code",
   "execution_count": null,
   "id": "8fb78025-2ef4-49d0-82cc-76cfd358e267",
   "metadata": {},
   "outputs": [],
   "source": []
  }
 ],
 "metadata": {
  "kernelspec": {
   "display_name": "Python 3 (ipykernel)",
   "language": "python",
   "name": "python3"
  },
  "language_info": {
   "codemirror_mode": {
    "name": "ipython",
    "version": 3
   },
   "file_extension": ".py",
   "mimetype": "text/x-python",
   "name": "python",
   "nbconvert_exporter": "python",
   "pygments_lexer": "ipython3",
   "version": "3.12.7"
  }
 },
 "nbformat": 4,
 "nbformat_minor": 5
}
